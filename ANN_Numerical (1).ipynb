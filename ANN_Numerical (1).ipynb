{
 "cells": [
  {
   "cell_type": "code",
   "execution_count": 35,
   "id": "18d951a3",
   "metadata": {},
   "outputs": [],
   "source": [
    "import os\n",
    "import numpy as np\n",
    "import pandas as pd\n",
    "import matplotlib.pyplot as plt\n",
    "import seaborn as sns\n",
    "from sklearn.model_selection import train_test_split"
   ]
  },
  {
   "cell_type": "code",
   "execution_count": 36,
   "id": "d55586d5",
   "metadata": {},
   "outputs": [
    {
     "data": {
      "text/html": [
       "<div>\n",
       "<style scoped>\n",
       "    .dataframe tbody tr th:only-of-type {\n",
       "        vertical-align: middle;\n",
       "    }\n",
       "\n",
       "    .dataframe tbody tr th {\n",
       "        vertical-align: top;\n",
       "    }\n",
       "\n",
       "    .dataframe thead th {\n",
       "        text-align: right;\n",
       "    }\n",
       "</style>\n",
       "<table border=\"1\" class=\"dataframe\">\n",
       "  <thead>\n",
       "    <tr style=\"text-align: right;\">\n",
       "      <th></th>\n",
       "      <th>CLIENTNUM</th>\n",
       "      <th>Attrition_Flag</th>\n",
       "      <th>Customer_Age</th>\n",
       "      <th>Gender</th>\n",
       "      <th>Dependent_count</th>\n",
       "      <th>Education_Level</th>\n",
       "      <th>Marital_Status</th>\n",
       "      <th>Income_Category</th>\n",
       "      <th>Card_Category</th>\n",
       "      <th>Months_on_book</th>\n",
       "      <th>...</th>\n",
       "      <th>Credit_Limit</th>\n",
       "      <th>Total_Revolving_Bal</th>\n",
       "      <th>Avg_Open_To_Buy</th>\n",
       "      <th>Total_Amt_Chng_Q4_Q1</th>\n",
       "      <th>Total_Trans_Amt</th>\n",
       "      <th>Total_Trans_Ct</th>\n",
       "      <th>Total_Ct_Chng_Q4_Q1</th>\n",
       "      <th>Avg_Utilization_Ratio</th>\n",
       "      <th>Naive_Bayes_Classifier_Attrition_Flag_Card_Category_Contacts_Count_12_mon_Dependent_count_Education_Level_Months_Inactive_12_mon_1</th>\n",
       "      <th>Naive_Bayes_Classifier_Attrition_Flag_Card_Category_Contacts_Count_12_mon_Dependent_count_Education_Level_Months_Inactive_12_mon_2</th>\n",
       "    </tr>\n",
       "  </thead>\n",
       "  <tbody>\n",
       "    <tr>\n",
       "      <th>0</th>\n",
       "      <td>768805383</td>\n",
       "      <td>Existing Customer</td>\n",
       "      <td>45</td>\n",
       "      <td>M</td>\n",
       "      <td>3</td>\n",
       "      <td>High School</td>\n",
       "      <td>Married</td>\n",
       "      <td>$60K - $80K</td>\n",
       "      <td>Blue</td>\n",
       "      <td>39</td>\n",
       "      <td>...</td>\n",
       "      <td>12691.0</td>\n",
       "      <td>777</td>\n",
       "      <td>11914.0</td>\n",
       "      <td>1.335</td>\n",
       "      <td>1144</td>\n",
       "      <td>42</td>\n",
       "      <td>1.625</td>\n",
       "      <td>0.061</td>\n",
       "      <td>0.000093</td>\n",
       "      <td>0.99991</td>\n",
       "    </tr>\n",
       "    <tr>\n",
       "      <th>1</th>\n",
       "      <td>818770008</td>\n",
       "      <td>Existing Customer</td>\n",
       "      <td>49</td>\n",
       "      <td>F</td>\n",
       "      <td>5</td>\n",
       "      <td>Graduate</td>\n",
       "      <td>Single</td>\n",
       "      <td>Less than $40K</td>\n",
       "      <td>Blue</td>\n",
       "      <td>44</td>\n",
       "      <td>...</td>\n",
       "      <td>8256.0</td>\n",
       "      <td>864</td>\n",
       "      <td>7392.0</td>\n",
       "      <td>1.541</td>\n",
       "      <td>1291</td>\n",
       "      <td>33</td>\n",
       "      <td>3.714</td>\n",
       "      <td>0.105</td>\n",
       "      <td>0.000057</td>\n",
       "      <td>0.99994</td>\n",
       "    </tr>\n",
       "    <tr>\n",
       "      <th>2</th>\n",
       "      <td>713982108</td>\n",
       "      <td>Existing Customer</td>\n",
       "      <td>51</td>\n",
       "      <td>M</td>\n",
       "      <td>3</td>\n",
       "      <td>Graduate</td>\n",
       "      <td>Married</td>\n",
       "      <td>$80K - $120K</td>\n",
       "      <td>Blue</td>\n",
       "      <td>36</td>\n",
       "      <td>...</td>\n",
       "      <td>3418.0</td>\n",
       "      <td>0</td>\n",
       "      <td>3418.0</td>\n",
       "      <td>2.594</td>\n",
       "      <td>1887</td>\n",
       "      <td>20</td>\n",
       "      <td>2.333</td>\n",
       "      <td>0.000</td>\n",
       "      <td>0.000021</td>\n",
       "      <td>0.99998</td>\n",
       "    </tr>\n",
       "    <tr>\n",
       "      <th>3</th>\n",
       "      <td>769911858</td>\n",
       "      <td>Existing Customer</td>\n",
       "      <td>40</td>\n",
       "      <td>F</td>\n",
       "      <td>4</td>\n",
       "      <td>High School</td>\n",
       "      <td>Unknown</td>\n",
       "      <td>Less than $40K</td>\n",
       "      <td>Blue</td>\n",
       "      <td>34</td>\n",
       "      <td>...</td>\n",
       "      <td>3313.0</td>\n",
       "      <td>2517</td>\n",
       "      <td>796.0</td>\n",
       "      <td>1.405</td>\n",
       "      <td>1171</td>\n",
       "      <td>20</td>\n",
       "      <td>2.333</td>\n",
       "      <td>0.760</td>\n",
       "      <td>0.000134</td>\n",
       "      <td>0.99987</td>\n",
       "    </tr>\n",
       "    <tr>\n",
       "      <th>4</th>\n",
       "      <td>709106358</td>\n",
       "      <td>Existing Customer</td>\n",
       "      <td>40</td>\n",
       "      <td>M</td>\n",
       "      <td>3</td>\n",
       "      <td>Uneducated</td>\n",
       "      <td>Married</td>\n",
       "      <td>$60K - $80K</td>\n",
       "      <td>Blue</td>\n",
       "      <td>21</td>\n",
       "      <td>...</td>\n",
       "      <td>4716.0</td>\n",
       "      <td>0</td>\n",
       "      <td>4716.0</td>\n",
       "      <td>2.175</td>\n",
       "      <td>816</td>\n",
       "      <td>28</td>\n",
       "      <td>2.500</td>\n",
       "      <td>0.000</td>\n",
       "      <td>0.000022</td>\n",
       "      <td>0.99998</td>\n",
       "    </tr>\n",
       "  </tbody>\n",
       "</table>\n",
       "<p>5 rows × 23 columns</p>\n",
       "</div>"
      ],
      "text/plain": [
       "   CLIENTNUM     Attrition_Flag  Customer_Age Gender  Dependent_count  \\\n",
       "0  768805383  Existing Customer            45      M                3   \n",
       "1  818770008  Existing Customer            49      F                5   \n",
       "2  713982108  Existing Customer            51      M                3   \n",
       "3  769911858  Existing Customer            40      F                4   \n",
       "4  709106358  Existing Customer            40      M                3   \n",
       "\n",
       "  Education_Level Marital_Status Income_Category Card_Category  \\\n",
       "0     High School        Married     $60K - $80K          Blue   \n",
       "1        Graduate         Single  Less than $40K          Blue   \n",
       "2        Graduate        Married    $80K - $120K          Blue   \n",
       "3     High School        Unknown  Less than $40K          Blue   \n",
       "4      Uneducated        Married     $60K - $80K          Blue   \n",
       "\n",
       "   Months_on_book  ...  Credit_Limit  Total_Revolving_Bal  Avg_Open_To_Buy  \\\n",
       "0              39  ...       12691.0                  777          11914.0   \n",
       "1              44  ...        8256.0                  864           7392.0   \n",
       "2              36  ...        3418.0                    0           3418.0   \n",
       "3              34  ...        3313.0                 2517            796.0   \n",
       "4              21  ...        4716.0                    0           4716.0   \n",
       "\n",
       "   Total_Amt_Chng_Q4_Q1  Total_Trans_Amt  Total_Trans_Ct  Total_Ct_Chng_Q4_Q1  \\\n",
       "0                 1.335             1144              42                1.625   \n",
       "1                 1.541             1291              33                3.714   \n",
       "2                 2.594             1887              20                2.333   \n",
       "3                 1.405             1171              20                2.333   \n",
       "4                 2.175              816              28                2.500   \n",
       "\n",
       "   Avg_Utilization_Ratio  \\\n",
       "0                  0.061   \n",
       "1                  0.105   \n",
       "2                  0.000   \n",
       "3                  0.760   \n",
       "4                  0.000   \n",
       "\n",
       "   Naive_Bayes_Classifier_Attrition_Flag_Card_Category_Contacts_Count_12_mon_Dependent_count_Education_Level_Months_Inactive_12_mon_1  \\\n",
       "0                                           0.000093                                                                                    \n",
       "1                                           0.000057                                                                                    \n",
       "2                                           0.000021                                                                                    \n",
       "3                                           0.000134                                                                                    \n",
       "4                                           0.000022                                                                                    \n",
       "\n",
       "   Naive_Bayes_Classifier_Attrition_Flag_Card_Category_Contacts_Count_12_mon_Dependent_count_Education_Level_Months_Inactive_12_mon_2  \n",
       "0                                            0.99991                                                                                   \n",
       "1                                            0.99994                                                                                   \n",
       "2                                            0.99998                                                                                   \n",
       "3                                            0.99987                                                                                   \n",
       "4                                            0.99998                                                                                   \n",
       "\n",
       "[5 rows x 23 columns]"
      ]
     },
     "execution_count": 36,
     "metadata": {},
     "output_type": "execute_result"
    }
   ],
   "source": [
    "dataset= pd.read_csv('F:/numdataset/credit_cardCustomer.csv')\n",
    "dataset.head()"
   ]
  },
  {
   "cell_type": "code",
   "execution_count": 37,
   "id": "4ed0a767",
   "metadata": {},
   "outputs": [
    {
     "data": {
      "text/plain": [
       "Index(['CLIENTNUM', 'Attrition_Flag', 'Customer_Age', 'Gender',\n",
       "       'Dependent_count', 'Education_Level', 'Marital_Status',\n",
       "       'Income_Category', 'Card_Category', 'Months_on_book',\n",
       "       'Total_Relationship_Count', 'Months_Inactive_12_mon',\n",
       "       'Contacts_Count_12_mon', 'Credit_Limit', 'Total_Revolving_Bal',\n",
       "       'Avg_Open_To_Buy', 'Total_Amt_Chng_Q4_Q1', 'Total_Trans_Amt',\n",
       "       'Total_Trans_Ct', 'Total_Ct_Chng_Q4_Q1', 'Avg_Utilization_Ratio',\n",
       "       'Naive_Bayes_Classifier_Attrition_Flag_Card_Category_Contacts_Count_12_mon_Dependent_count_Education_Level_Months_Inactive_12_mon_1',\n",
       "       'Naive_Bayes_Classifier_Attrition_Flag_Card_Category_Contacts_Count_12_mon_Dependent_count_Education_Level_Months_Inactive_12_mon_2'],\n",
       "      dtype='object')"
      ]
     },
     "execution_count": 37,
     "metadata": {},
     "output_type": "execute_result"
    }
   ],
   "source": [
    "dataset.columns"
   ]
  },
  {
   "cell_type": "code",
   "execution_count": 38,
   "id": "83ad7e3c",
   "metadata": {},
   "outputs": [],
   "source": [
    "dataset.columns = ['CLIENTNUM', 'AttritionFlag', 'CustomerAge', 'Gender',\n",
    "       'Dependentcount', 'EducationLevel', 'MaritalStatus',\n",
    "       'IncomeCategory', 'CardCategory', 'MonthsOnBook',\n",
    "       'TotalRelationshipCount', 'MonthsInactive12mon',\n",
    "       'ContactsCount12mon', 'CreditLimit', 'TotalRevolvingBal',\n",
    "       'AvgOpenToBuy', 'TotalAmtChngQ4_Q1', 'TotalTransAmt',\n",
    "       'TotalTransCt', 'TotalCtChngQ4_Q1', 'AvgUtilizationRatio',\n",
    "       'NaiveClassifiermon1',\n",
    "       'NaiveClassifiermon2']"
   ]
  },
  {
   "cell_type": "code",
   "execution_count": 39,
   "id": "7b211c55",
   "metadata": {},
   "outputs": [
    {
     "data": {
      "text/plain": [
       "Index(['CLIENTNUM', 'AttritionFlag', 'CustomerAge', 'Gender', 'Dependentcount',\n",
       "       'EducationLevel', 'MaritalStatus', 'IncomeCategory', 'CardCategory',\n",
       "       'MonthsOnBook', 'TotalRelationshipCount', 'MonthsInactive12mon',\n",
       "       'ContactsCount12mon', 'CreditLimit', 'TotalRevolvingBal',\n",
       "       'AvgOpenToBuy', 'TotalAmtChngQ4_Q1', 'TotalTransAmt', 'TotalTransCt',\n",
       "       'TotalCtChngQ4_Q1', 'AvgUtilizationRatio', 'NaiveClassifiermon1',\n",
       "       'NaiveClassifiermon2'],\n",
       "      dtype='object')"
      ]
     },
     "execution_count": 39,
     "metadata": {},
     "output_type": "execute_result"
    }
   ],
   "source": [
    "dataset.columns"
   ]
  },
  {
   "cell_type": "code",
   "execution_count": 40,
   "id": "456a04f3",
   "metadata": {},
   "outputs": [
    {
     "name": "stdout",
     "output_type": "stream",
     "text": [
      "<class 'pandas.core.frame.DataFrame'>\n",
      "RangeIndex: 10127 entries, 0 to 10126\n",
      "Data columns (total 23 columns):\n",
      " #   Column                  Non-Null Count  Dtype  \n",
      "---  ------                  --------------  -----  \n",
      " 0   CLIENTNUM               10127 non-null  int64  \n",
      " 1   AttritionFlag           10127 non-null  object \n",
      " 2   CustomerAge             10127 non-null  int64  \n",
      " 3   Gender                  10127 non-null  object \n",
      " 4   Dependentcount          10127 non-null  int64  \n",
      " 5   EducationLevel          10127 non-null  object \n",
      " 6   MaritalStatus           10127 non-null  object \n",
      " 7   IncomeCategory          10127 non-null  object \n",
      " 8   CardCategory            10127 non-null  object \n",
      " 9   MonthsOnBook            10127 non-null  int64  \n",
      " 10  TotalRelationshipCount  10127 non-null  int64  \n",
      " 11  MonthsInactive12mon     10127 non-null  int64  \n",
      " 12  ContactsCount12mon      10127 non-null  int64  \n",
      " 13  CreditLimit             10127 non-null  float64\n",
      " 14  TotalRevolvingBal       10127 non-null  int64  \n",
      " 15  AvgOpenToBuy            10127 non-null  float64\n",
      " 16  TotalAmtChngQ4_Q1       10127 non-null  float64\n",
      " 17  TotalTransAmt           10127 non-null  int64  \n",
      " 18  TotalTransCt            10127 non-null  int64  \n",
      " 19  TotalCtChngQ4_Q1        10127 non-null  float64\n",
      " 20  AvgUtilizationRatio     10127 non-null  float64\n",
      " 21  NaiveClassifiermon1     10127 non-null  float64\n",
      " 22  NaiveClassifiermon2     10127 non-null  float64\n",
      "dtypes: float64(7), int64(10), object(6)\n",
      "memory usage: 1.8+ MB\n"
     ]
    }
   ],
   "source": [
    "dataset.info()"
   ]
  },
  {
   "cell_type": "code",
   "execution_count": 41,
   "id": "8c1138db",
   "metadata": {},
   "outputs": [
    {
     "data": {
      "text/plain": [
       "CLIENTNUM                 0\n",
       "AttritionFlag             0\n",
       "CustomerAge               0\n",
       "Gender                    0\n",
       "Dependentcount            0\n",
       "EducationLevel            0\n",
       "MaritalStatus             0\n",
       "IncomeCategory            0\n",
       "CardCategory              0\n",
       "MonthsOnBook              0\n",
       "TotalRelationshipCount    0\n",
       "MonthsInactive12mon       0\n",
       "ContactsCount12mon        0\n",
       "CreditLimit               0\n",
       "TotalRevolvingBal         0\n",
       "AvgOpenToBuy              0\n",
       "TotalAmtChngQ4_Q1         0\n",
       "TotalTransAmt             0\n",
       "TotalTransCt              0\n",
       "TotalCtChngQ4_Q1          0\n",
       "AvgUtilizationRatio       0\n",
       "NaiveClassifiermon1       0\n",
       "NaiveClassifiermon2       0\n",
       "dtype: int64"
      ]
     },
     "execution_count": 41,
     "metadata": {},
     "output_type": "execute_result"
    }
   ],
   "source": [
    "dataset.isnull().sum()"
   ]
  },
  {
   "cell_type": "code",
   "execution_count": 42,
   "id": "c7a247e1",
   "metadata": {},
   "outputs": [
    {
     "name": "stdout",
     "output_type": "stream",
     "text": [
      "AttritionFlag     2\n",
      "Gender            2\n",
      "EducationLevel    7\n",
      "MaritalStatus     4\n",
      "IncomeCategory    6\n",
      "CardCategory      4\n",
      "dtype: int64\n"
     ]
    }
   ],
   "source": [
    "cat_columns = dataset.select_dtypes(include = ['object']).nunique(dropna=False)\n",
    "print(cat_columns)"
   ]
  },
  {
   "cell_type": "code",
   "execution_count": 43,
   "id": "2da4a7df",
   "metadata": {},
   "outputs": [],
   "source": [
    "dataset = dataset.drop('CLIENTNUM', axis=1)\n",
    "dataset = dataset.drop(columns=['NaiveClassifiermon1','NaiveClassifiermon2'], axis=1)"
   ]
  },
  {
   "cell_type": "code",
   "execution_count": 44,
   "id": "d9a80238",
   "metadata": {},
   "outputs": [
    {
     "name": "stdout",
     "output_type": "stream",
     "text": [
      "Existing Customer    8500\n",
      "Attrited Customer    1627\n",
      "Name: AttritionFlag, dtype: int64\n"
     ]
    },
    {
     "data": {
      "text/plain": [
       "<AxesSubplot:xlabel='AttritionFlag', ylabel='count'>"
      ]
     },
     "execution_count": 44,
     "metadata": {},
     "output_type": "execute_result"
    },
    {
     "data": {
      "image/png": "[encoded data removed]",
      "text/plain": [
       "<Figure size 432x288 with 1 Axes>"
      ]
     },
     "metadata": {
      "needs_background": "light"
     },
     "output_type": "display_data"
    }
   ],
   "source": [
    "import seaborn as sns\n",
    "\n",
    "# target is Attrition_Flag\n",
    "print(dataset['AttritionFlag'].value_counts())\n",
    "sns.countplot(x=\"AttritionFlag\", data=dataset)"
   ]
  },
  {
   "cell_type": "code",
   "execution_count": 45,
   "id": "71061251",
   "metadata": {},
   "outputs": [
    {
     "data": {
      "text/plain": [
       "<AxesSubplot:xlabel='Gender'>"
      ]
     },
     "execution_count": 45,
     "metadata": {},
     "output_type": "execute_result"
    },
    {
     "data": {
      "image/png": "[encoded data removed]",
      "text/plain": [
       "<Figure size 432x288 with 1 Axes>"
      ]
     },
     "metadata": {
      "needs_background": "light"
     },
     "output_type": "display_data"
    }
   ],
   "source": [
    "pt = dataset[['Gender','AttritionFlag']].pivot_table(index='Gender', columns='AttritionFlag', aggfunc=len, fill_value=0)\n",
    "pt.plot.bar()"
   ]
  },
  {
   "cell_type": "code",
   "execution_count": 46,
   "id": "a1f5d0e2",
   "metadata": {},
   "outputs": [
    {
     "data": {
      "image/png": "[encoded data removed]",
      "text/plain": [
       "<Figure size 432x288 with 1 Axes>"
      ]
     },
     "metadata": {
      "needs_background": "light"
     },
     "output_type": "display_data"
    }
   ],
   "source": [
    "dataset['bin_age'] = pd.cut(dataset.CustomerAge, [0,30,40,50,60,70,90])\n",
    "\n",
    "pt = dataset[['bin_age','AttritionFlag']].pivot_table(index='bin_age', columns='AttritionFlag', aggfunc=len, fill_value=0)\n",
    "pt.plot.bar()\n",
    "dataset = dataset.drop('bin_age', axis=1)"
   ]
  },
  {
   "cell_type": "code",
   "execution_count": 47,
   "id": "29dae9a9",
   "metadata": {
    "scrolled": false
   },
   "outputs": [
    {
     "data": {
      "text/plain": [
       "<AxesSubplot:xlabel='IncomeCategory'>"
      ]
     },
     "execution_count": 47,
     "metadata": {},
     "output_type": "execute_result"
    },
    {
     "data": {
      "image/png": "[encoded data removed]",
      "text/plain": [
       "<Figure size 432x288 with 1 Axes>"
      ]
     },
     "metadata": {
      "needs_background": "light"
     },
     "output_type": "display_data"
    }
   ],
   "source": [
    "pt = dataset[['IncomeCategory','AttritionFlag']].pivot_table(index='IncomeCategory', columns='AttritionFlag', aggfunc=len, fill_value=0)\n",
    "pt.plot.bar()"
   ]
  },
  {
   "cell_type": "code",
   "execution_count": 48,
   "id": "864d1e50",
   "metadata": {},
   "outputs": [
    {
     "data": {
      "text/plain": [
       "<AxesSubplot:xlabel='CardCategory'>"
      ]
     },
     "execution_count": 48,
     "metadata": {},
     "output_type": "execute_result"
    },
    {
     "data": {
      "image/png": "[encoded data removed]",
      "text/plain": [
       "<Figure size 432x288 with 1 Axes>"
      ]
     },
     "metadata": {
      "needs_background": "light"
     },
     "output_type": "display_data"
    }
   ],
   "source": [
    "pt = dataset[['CardCategory','AttritionFlag']].pivot_table(index='CardCategory', columns='AttritionFlag', aggfunc=len, fill_value=0)\n",
    "pt.plot.bar()"
   ]
  },
  {
   "cell_type": "code",
   "execution_count": 49,
   "id": "7abfa5cf",
   "metadata": {},
   "outputs": [
    {
     "data": {
      "image/png": "[encoded data removed]",
      "text/plain": [
       "<Figure size 432x288 with 1 Axes>"
      ]
     },
     "metadata": {
      "needs_background": "light"
     },
     "output_type": "display_data"
    }
   ],
   "source": [
    "dataset['bin_Credit_Limit'] = pd.cut(dataset.CreditLimit, [0,5000,10000,20000,30000,40000])\n",
    "\n",
    "pt = dataset[['bin_Credit_Limit','AttritionFlag']].pivot_table(index='bin_Credit_Limit', columns='AttritionFlag', aggfunc=len, fill_value=0)\n",
    "pt.plot.bar()\n",
    "dataset = dataset.drop('bin_Credit_Limit', axis=1)"
   ]
  },
  {
   "cell_type": "code",
   "execution_count": 50,
   "id": "51c5fdcd",
   "metadata": {},
   "outputs": [
    {
     "data": {
      "text/plain": [
       "<AxesSubplot:xlabel='TotalRelationshipCount'>"
      ]
     },
     "execution_count": 50,
     "metadata": {},
     "output_type": "execute_result"
    },
    {
     "data": {
      "image/png": "[encoded data removed]",
      "text/plain": [
       "<Figure size 432x288 with 1 Axes>"
      ]
     },
     "metadata": {
      "needs_background": "light"
     },
     "output_type": "display_data"
    }
   ],
   "source": [
    "pt = dataset[['TotalRelationshipCount','AttritionFlag']].pivot_table(index='TotalRelationshipCount', columns='AttritionFlag', aggfunc=len, fill_value=0)\n",
    "pt.plot.bar()"
   ]
  },
  {
   "cell_type": "code",
   "execution_count": 51,
   "id": "1a776da4",
   "metadata": {},
   "outputs": [
    {
     "data": {
      "text/plain": [
       "<AxesSubplot:xlabel='MonthsInactive12mon'>"
      ]
     },
     "execution_count": 51,
     "metadata": {},
     "output_type": "execute_result"
    },
    {
     "data": {
      "image/png": "[encoded data removed]",
      "text/plain": [
       "<Figure size 432x288 with 1 Axes>"
      ]
     },
     "metadata": {
      "needs_background": "light"
     },
     "output_type": "display_data"
    }
   ],
   "source": [
    "pt = dataset[['MonthsInactive12mon','AttritionFlag']].pivot_table(index='MonthsInactive12mon', columns='AttritionFlag', aggfunc=len, fill_value=0)\n",
    "pt.plot.bar()"
   ]
  },
  {
   "cell_type": "code",
   "execution_count": 52,
   "id": "88eb36e6",
   "metadata": {},
   "outputs": [
    {
     "data": {
      "text/plain": [
       "0    8500\n",
       "1    1627\n",
       "Name: AttritionFlag, dtype: int64"
      ]
     },
     "execution_count": 52,
     "metadata": {},
     "output_type": "execute_result"
    }
   ],
   "source": [
    "dataset['AttritionFlag'] = dataset['AttritionFlag'].replace({'Existing Customer': 0, 'Attrited Customer': 1})\n",
    "dataset['AttritionFlag'].value_counts()"
   ]
  },
  {
   "cell_type": "code",
   "execution_count": 53,
   "id": "0f25f8c8",
   "metadata": {},
   "outputs": [
    {
     "data": {
      "text/plain": [
       "0    5358\n",
       "1    4769\n",
       "Name: Gender, dtype: int64"
      ]
     },
     "execution_count": 53,
     "metadata": {},
     "output_type": "execute_result"
    }
   ],
   "source": [
    "dataset['Gender'] = dataset['Gender'].replace({'F': 0, 'M': 1})\n",
    "dataset['Gender'].value_counts()"
   ]
  },
  {
   "cell_type": "code",
   "execution_count": 54,
   "id": "6f0bb35d",
   "metadata": {},
   "outputs": [],
   "source": [
    "from sklearn.preprocessing import StandardScaler\n",
    "sc = StandardScaler()\n",
    "numerical_features = dataset.select_dtypes(exclude=['object'])\n",
    "numerical_features = numerical_features.drop(['AttritionFlag', 'Gender'], axis=1)\n",
    "dataset[numerical_features.columns] = sc.fit_transform(numerical_features)"
   ]
  },
  {
   "cell_type": "code",
   "execution_count": 55,
   "id": "f9bb53e6",
   "metadata": {},
   "outputs": [
    {
     "data": {
      "text/html": [
       "<div>\n",
       "<style scoped>\n",
       "    .dataframe tbody tr th:only-of-type {\n",
       "        vertical-align: middle;\n",
       "    }\n",
       "\n",
       "    .dataframe tbody tr th {\n",
       "        vertical-align: top;\n",
       "    }\n",
       "\n",
       "    .dataframe thead th {\n",
       "        text-align: right;\n",
       "    }\n",
       "</style>\n",
       "<table border=\"1\" class=\"dataframe\">\n",
       "  <thead>\n",
       "    <tr style=\"text-align: right;\">\n",
       "      <th></th>\n",
       "      <th>AttritionFlag</th>\n",
       "      <th>CustomerAge</th>\n",
       "      <th>Gender</th>\n",
       "      <th>Dependentcount</th>\n",
       "      <th>MonthsOnBook</th>\n",
       "      <th>TotalRelationshipCount</th>\n",
       "      <th>MonthsInactive12mon</th>\n",
       "      <th>ContactsCount12mon</th>\n",
       "      <th>CreditLimit</th>\n",
       "      <th>TotalRevolvingBal</th>\n",
       "      <th>...</th>\n",
       "      <th>IncomeCategory_$120K +</th>\n",
       "      <th>IncomeCategory_$40K - $60K</th>\n",
       "      <th>IncomeCategory_$60K - $80K</th>\n",
       "      <th>IncomeCategory_$80K - $120K</th>\n",
       "      <th>IncomeCategory_Less than $40K</th>\n",
       "      <th>IncomeCategory_Unknown</th>\n",
       "      <th>CardCategory_Blue</th>\n",
       "      <th>CardCategory_Gold</th>\n",
       "      <th>CardCategory_Platinum</th>\n",
       "      <th>CardCategory_Silver</th>\n",
       "    </tr>\n",
       "  </thead>\n",
       "  <tbody>\n",
       "    <tr>\n",
       "      <th>0</th>\n",
       "      <td>0</td>\n",
       "      <td>-0.165406</td>\n",
       "      <td>1</td>\n",
       "      <td>0.503368</td>\n",
       "      <td>0.384621</td>\n",
       "      <td>0.763943</td>\n",
       "      <td>-1.327136</td>\n",
       "      <td>0.492404</td>\n",
       "      <td>0.446622</td>\n",
       "      <td>-0.473422</td>\n",
       "      <td>...</td>\n",
       "      <td>0</td>\n",
       "      <td>0</td>\n",
       "      <td>1</td>\n",
       "      <td>0</td>\n",
       "      <td>0</td>\n",
       "      <td>0</td>\n",
       "      <td>1</td>\n",
       "      <td>0</td>\n",
       "      <td>0</td>\n",
       "      <td>0</td>\n",
       "    </tr>\n",
       "    <tr>\n",
       "      <th>1</th>\n",
       "      <td>0</td>\n",
       "      <td>0.333570</td>\n",
       "      <td>0</td>\n",
       "      <td>2.043199</td>\n",
       "      <td>1.010715</td>\n",
       "      <td>1.407306</td>\n",
       "      <td>-1.327136</td>\n",
       "      <td>-0.411616</td>\n",
       "      <td>-0.041367</td>\n",
       "      <td>-0.366667</td>\n",
       "      <td>...</td>\n",
       "      <td>0</td>\n",
       "      <td>0</td>\n",
       "      <td>0</td>\n",
       "      <td>0</td>\n",
       "      <td>1</td>\n",
       "      <td>0</td>\n",
       "      <td>1</td>\n",
       "      <td>0</td>\n",
       "      <td>0</td>\n",
       "      <td>0</td>\n",
       "    </tr>\n",
       "    <tr>\n",
       "      <th>2</th>\n",
       "      <td>0</td>\n",
       "      <td>0.583058</td>\n",
       "      <td>1</td>\n",
       "      <td>0.503368</td>\n",
       "      <td>0.008965</td>\n",
       "      <td>0.120579</td>\n",
       "      <td>-1.327136</td>\n",
       "      <td>-2.219655</td>\n",
       "      <td>-0.573698</td>\n",
       "      <td>-1.426858</td>\n",
       "      <td>...</td>\n",
       "      <td>0</td>\n",
       "      <td>0</td>\n",
       "      <td>0</td>\n",
       "      <td>1</td>\n",
       "      <td>0</td>\n",
       "      <td>0</td>\n",
       "      <td>1</td>\n",
       "      <td>0</td>\n",
       "      <td>0</td>\n",
       "      <td>0</td>\n",
       "    </tr>\n",
       "    <tr>\n",
       "      <th>3</th>\n",
       "      <td>0</td>\n",
       "      <td>-0.789126</td>\n",
       "      <td>0</td>\n",
       "      <td>1.273283</td>\n",
       "      <td>-0.241473</td>\n",
       "      <td>-0.522785</td>\n",
       "      <td>1.641478</td>\n",
       "      <td>-1.315636</td>\n",
       "      <td>-0.585251</td>\n",
       "      <td>1.661686</td>\n",
       "      <td>...</td>\n",
       "      <td>0</td>\n",
       "      <td>0</td>\n",
       "      <td>0</td>\n",
       "      <td>0</td>\n",
       "      <td>1</td>\n",
       "      <td>0</td>\n",
       "      <td>1</td>\n",
       "      <td>0</td>\n",
       "      <td>0</td>\n",
       "      <td>0</td>\n",
       "    </tr>\n",
       "    <tr>\n",
       "      <th>4</th>\n",
       "      <td>0</td>\n",
       "      <td>-0.789126</td>\n",
       "      <td>1</td>\n",
       "      <td>0.503368</td>\n",
       "      <td>-1.869317</td>\n",
       "      <td>0.763943</td>\n",
       "      <td>-1.327136</td>\n",
       "      <td>-2.219655</td>\n",
       "      <td>-0.430877</td>\n",
       "      <td>-1.426858</td>\n",
       "      <td>...</td>\n",
       "      <td>0</td>\n",
       "      <td>0</td>\n",
       "      <td>1</td>\n",
       "      <td>0</td>\n",
       "      <td>0</td>\n",
       "      <td>0</td>\n",
       "      <td>1</td>\n",
       "      <td>0</td>\n",
       "      <td>0</td>\n",
       "      <td>0</td>\n",
       "    </tr>\n",
       "  </tbody>\n",
       "</table>\n",
       "<p>5 rows × 37 columns</p>\n",
       "</div>"
      ],
      "text/plain": [
       "   AttritionFlag  CustomerAge  Gender  Dependentcount  MonthsOnBook  \\\n",
       "0              0    -0.165406       1        0.503368      0.384621   \n",
       "1              0     0.333570       0        2.043199      1.010715   \n",
       "2              0     0.583058       1        0.503368      0.008965   \n",
       "3              0    -0.789126       0        1.273283     -0.241473   \n",
       "4              0    -0.789126       1        0.503368     -1.869317   \n",
       "\n",
       "   TotalRelationshipCount  MonthsInactive12mon  ContactsCount12mon  \\\n",
       "0                0.763943            -1.327136            0.492404   \n",
       "1                1.407306            -1.327136           -0.411616   \n",
       "2                0.120579            -1.327136           -2.219655   \n",
       "3               -0.522785             1.641478           -1.315636   \n",
       "4                0.763943            -1.327136           -2.219655   \n",
       "\n",
       "   CreditLimit  TotalRevolvingBal  ...  IncomeCategory_$120K +  \\\n",
       "0     0.446622          -0.473422  ...                       0   \n",
       "1    -0.041367          -0.366667  ...                       0   \n",
       "2    -0.573698          -1.426858  ...                       0   \n",
       "3    -0.585251           1.661686  ...                       0   \n",
       "4    -0.430877          -1.426858  ...                       0   \n",
       "\n",
       "   IncomeCategory_$40K - $60K  IncomeCategory_$60K - $80K  \\\n",
       "0                           0                           1   \n",
       "1                           0                           0   \n",
       "2                           0                           0   \n",
       "3                           0                           0   \n",
       "4                           0                           1   \n",
       "\n",
       "   IncomeCategory_$80K - $120K  IncomeCategory_Less than $40K  \\\n",
       "0                            0                              0   \n",
       "1                            0                              1   \n",
       "2                            1                              0   \n",
       "3                            0                              1   \n",
       "4                            0                              0   \n",
       "\n",
       "   IncomeCategory_Unknown  CardCategory_Blue  CardCategory_Gold  \\\n",
       "0                       0                  1                  0   \n",
       "1                       0                  1                  0   \n",
       "2                       0                  1                  0   \n",
       "3                       0                  1                  0   \n",
       "4                       0                  1                  0   \n",
       "\n",
       "   CardCategory_Platinum  CardCategory_Silver  \n",
       "0                      0                    0  \n",
       "1                      0                    0  \n",
       "2                      0                    0  \n",
       "3                      0                    0  \n",
       "4                      0                    0  \n",
       "\n",
       "[5 rows x 37 columns]"
      ]
     },
     "execution_count": 55,
     "metadata": {},
     "output_type": "execute_result"
    }
   ],
   "source": [
    "categorical_features = dataset.select_dtypes(include=['object']).columns.values.tolist()\n",
    "dataset = pd.get_dummies(dataset, columns=categorical_features)\n",
    "dataset.head()"
   ]
  },
  {
   "cell_type": "code",
   "execution_count": 56,
   "id": "96a4499d",
   "metadata": {},
   "outputs": [
    {
     "data": {
      "text/plain": [
       "(10127, 37)"
      ]
     },
     "execution_count": 56,
     "metadata": {},
     "output_type": "execute_result"
    }
   ],
   "source": [
    "dataset.shape"
   ]
  },
  {
   "cell_type": "code",
   "execution_count": 57,
   "id": "e4699ed9",
   "metadata": {},
   "outputs": [],
   "source": [
    "y = dataset['AttritionFlag']\n",
    "X = dataset.drop('AttritionFlag', axis=1)"
   ]
  },
  {
   "cell_type": "code",
   "execution_count": 58,
   "id": "36edcd69",
   "metadata": {},
   "outputs": [
    {
     "name": "stdout",
     "output_type": "stream",
     "text": [
      "Shape of X before PCA: (10127, 36)\n",
      "Shape of X after PCA: (10127, 20)\n"
     ]
    }
   ],
   "source": [
    "from sklearn.decomposition import PCA\n",
    "pca = PCA(0.95) \n",
    "pca.fit(X)\n",
    "X_pca = pca.transform(X)\n",
    "\n",
    "print(f'Shape of X before PCA: {X.shape}')\n",
    "print(f'Shape of X after PCA: {X_pca.shape}')"
   ]
  },
  {
   "cell_type": "code",
   "execution_count": 59,
   "id": "7893111f",
   "metadata": {},
   "outputs": [],
   "source": [
    "X_train, X_test, y_train, y_test = train_test_split(X, y, test_size = 0.20)"
   ]
  },
  {
   "cell_type": "code",
   "execution_count": 73,
   "id": "209cd58c",
   "metadata": {
    "scrolled": true
   },
   "outputs": [
    {
     "name": "stdout",
     "output_type": "stream",
     "text": [
      "Epoch 1/200\n",
      "648/648 [==============================] - 1s 2ms/step - loss: 0.6303 - accuracy: 0.8418 - val_loss: 0.4458 - val_accuracy: 0.8390\n",
      "Epoch 2/200\n",
      "648/648 [==============================] - 1s 1ms/step - loss: 0.3858 - accuracy: 0.8423 - val_loss: 0.3192 - val_accuracy: 0.8390\n",
      "Epoch 3/200\n",
      "648/648 [==============================] - 1s 1ms/step - loss: 0.3425 - accuracy: 0.8423 - val_loss: 0.2985 - val_accuracy: 0.8390\n",
      "Epoch 4/200\n",
      "648/648 [==============================] - 1s 1ms/step - loss: 0.3306 - accuracy: 0.8586 - val_loss: 0.2888 - val_accuracy: 0.8846\n",
      "Epoch 5/200\n",
      "648/648 [==============================] - 1s 1ms/step - loss: 0.3162 - accuracy: 0.8756 - val_loss: 0.2817 - val_accuracy: 0.8933\n",
      "Epoch 6/200\n",
      "648/648 [==============================] - 1s 1ms/step - loss: 0.3162 - accuracy: 0.8886 - val_loss: 0.2759 - val_accuracy: 0.9025\n",
      "Epoch 7/200\n",
      "648/648 [==============================] - 1s 1ms/step - loss: 0.3078 - accuracy: 0.8910 - val_loss: 0.2703 - val_accuracy: 0.9044\n",
      "Epoch 8/200\n",
      "648/648 [==============================] - 1s 1ms/step - loss: 0.3019 - accuracy: 0.8931 - val_loss: 0.2654 - val_accuracy: 0.9056\n",
      "Epoch 9/200\n",
      "648/648 [==============================] - 1s 1ms/step - loss: 0.3012 - accuracy: 0.8948 - val_loss: 0.2610 - val_accuracy: 0.9025\n",
      "Epoch 10/200\n",
      "648/648 [==============================] - 1s 1ms/step - loss: 0.2957 - accuracy: 0.8958 - val_loss: 0.2562 - val_accuracy: 0.9038\n",
      "Epoch 11/200\n",
      "648/648 [==============================] - 1s 1ms/step - loss: 0.2893 - accuracy: 0.8960 - val_loss: 0.2523 - val_accuracy: 0.9019\n",
      "Epoch 12/200\n",
      "648/648 [==============================] - 1s 1ms/step - loss: 0.2838 - accuracy: 0.8966 - val_loss: 0.2483 - val_accuracy: 0.9031\n",
      "Epoch 13/200\n",
      "648/648 [==============================] - 1s 1ms/step - loss: 0.2799 - accuracy: 0.8986 - val_loss: 0.2450 - val_accuracy: 0.9031\n",
      "Epoch 14/200\n",
      "648/648 [==============================] - 1s 1ms/step - loss: 0.2777 - accuracy: 0.8969 - val_loss: 0.2417 - val_accuracy: 0.9050\n",
      "Epoch 15/200\n",
      "648/648 [==============================] - 1s 1ms/step - loss: 0.2706 - accuracy: 0.8992 - val_loss: 0.2387 - val_accuracy: 0.9056\n",
      "Epoch 16/200\n",
      "648/648 [==============================] - 1s 1ms/step - loss: 0.2719 - accuracy: 0.8991 - val_loss: 0.2360 - val_accuracy: 0.9093\n",
      "Epoch 17/200\n",
      "648/648 [==============================] - 1s 1ms/step - loss: 0.2723 - accuracy: 0.9026 - val_loss: 0.2329 - val_accuracy: 0.9081\n",
      "Epoch 18/200\n",
      "648/648 [==============================] - 1s 1ms/step - loss: 0.2691 - accuracy: 0.9025 - val_loss: 0.2303 - val_accuracy: 0.9093\n",
      "Epoch 19/200\n",
      "648/648 [==============================] - 1s 1ms/step - loss: 0.2669 - accuracy: 0.9042 - val_loss: 0.2275 - val_accuracy: 0.9087\n",
      "Epoch 20/200\n",
      "648/648 [==============================] - 1s 1ms/step - loss: 0.2620 - accuracy: 0.9026 - val_loss: 0.2248 - val_accuracy: 0.9081\n",
      "Epoch 21/200\n",
      "648/648 [==============================] - 1s 1ms/step - loss: 0.2590 - accuracy: 0.9060 - val_loss: 0.2220 - val_accuracy: 0.9099\n",
      "Epoch 22/200\n",
      "648/648 [==============================] - 1s 1ms/step - loss: 0.2543 - accuracy: 0.9046 - val_loss: 0.2188 - val_accuracy: 0.9155\n",
      "Epoch 23/200\n",
      "648/648 [==============================] - 1s 1ms/step - loss: 0.2529 - accuracy: 0.9071 - val_loss: 0.2161 - val_accuracy: 0.9186\n",
      "Epoch 24/200\n",
      "648/648 [==============================] - 1s 1ms/step - loss: 0.2518 - accuracy: 0.9054 - val_loss: 0.2138 - val_accuracy: 0.9186\n",
      "Epoch 25/200\n",
      "648/648 [==============================] - 1s 1ms/step - loss: 0.2462 - accuracy: 0.9097 - val_loss: 0.2109 - val_accuracy: 0.9186\n",
      "Epoch 26/200\n",
      "648/648 [==============================] - 1s 1ms/step - loss: 0.2432 - accuracy: 0.9086 - val_loss: 0.2082 - val_accuracy: 0.9217\n",
      "Epoch 27/200\n",
      "648/648 [==============================] - 1s 1ms/step - loss: 0.2390 - accuracy: 0.9074 - val_loss: 0.2060 - val_accuracy: 0.9204\n",
      "Epoch 28/200\n",
      "648/648 [==============================] - 1s 1ms/step - loss: 0.2386 - accuracy: 0.9116 - val_loss: 0.2032 - val_accuracy: 0.9217\n",
      "Epoch 29/200\n",
      "648/648 [==============================] - 1s 1ms/step - loss: 0.2366 - accuracy: 0.9091 - val_loss: 0.2011 - val_accuracy: 0.9204\n",
      "Epoch 30/200\n",
      "648/648 [==============================] - 1s 1ms/step - loss: 0.2335 - accuracy: 0.9119 - val_loss: 0.1992 - val_accuracy: 0.9204\n",
      "Epoch 31/200\n",
      "648/648 [==============================] - 1s 1ms/step - loss: 0.2355 - accuracy: 0.9097 - val_loss: 0.1972 - val_accuracy: 0.9247\n",
      "Epoch 32/200\n",
      "648/648 [==============================] - 1s 1ms/step - loss: 0.2314 - accuracy: 0.9117 - val_loss: 0.1950 - val_accuracy: 0.9235\n",
      "Epoch 33/200\n",
      "648/648 [==============================] - 1s 1ms/step - loss: 0.2299 - accuracy: 0.9144 - val_loss: 0.1935 - val_accuracy: 0.9223\n",
      "Epoch 34/200\n",
      "648/648 [==============================] - 1s 1ms/step - loss: 0.2232 - accuracy: 0.9168 - val_loss: 0.1920 - val_accuracy: 0.9241\n",
      "Epoch 35/200\n",
      "648/648 [==============================] - 1s 1ms/step - loss: 0.2256 - accuracy: 0.9151 - val_loss: 0.1903 - val_accuracy: 0.9266\n",
      "Epoch 36/200\n",
      "648/648 [==============================] - 1s 1ms/step - loss: 0.2220 - accuracy: 0.9171 - val_loss: 0.1897 - val_accuracy: 0.9272\n",
      "Epoch 37/200\n",
      "648/648 [==============================] - 1s 1ms/step - loss: 0.2174 - accuracy: 0.9148 - val_loss: 0.1883 - val_accuracy: 0.9247\n",
      "Epoch 38/200\n",
      "648/648 [==============================] - 1s 1ms/step - loss: 0.2163 - accuracy: 0.9160 - val_loss: 0.1875 - val_accuracy: 0.9254\n",
      "Epoch 39/200\n",
      "648/648 [==============================] - 1s 1ms/step - loss: 0.2176 - accuracy: 0.9184 - val_loss: 0.1868 - val_accuracy: 0.9260\n",
      "Epoch 40/200\n",
      "648/648 [==============================] - 1s 1ms/step - loss: 0.2112 - accuracy: 0.9193 - val_loss: 0.1869 - val_accuracy: 0.9254\n",
      "Epoch 41/200\n",
      "648/648 [==============================] - 1s 1ms/step - loss: 0.2135 - accuracy: 0.9199 - val_loss: 0.1852 - val_accuracy: 0.9278\n",
      "Epoch 42/200\n",
      "648/648 [==============================] - 1s 1ms/step - loss: 0.2101 - accuracy: 0.9225 - val_loss: 0.1846 - val_accuracy: 0.9284\n",
      "Epoch 43/200\n",
      "648/648 [==============================] - 1s 1ms/step - loss: 0.2134 - accuracy: 0.9235 - val_loss: 0.1841 - val_accuracy: 0.9272\n",
      "Epoch 44/200\n",
      "648/648 [==============================] - 1s 1ms/step - loss: 0.2165 - accuracy: 0.9150 - val_loss: 0.1837 - val_accuracy: 0.9272\n",
      "Epoch 45/200\n",
      "648/648 [==============================] - 1s 1ms/step - loss: 0.2067 - accuracy: 0.9213 - val_loss: 0.1833 - val_accuracy: 0.9266\n",
      "Epoch 46/200\n",
      "648/648 [==============================] - 1s 1ms/step - loss: 0.2127 - accuracy: 0.9196 - val_loss: 0.1822 - val_accuracy: 0.9278\n",
      "Epoch 47/200\n",
      "648/648 [==============================] - 1s 1ms/step - loss: 0.2115 - accuracy: 0.9213 - val_loss: 0.1821 - val_accuracy: 0.9278\n",
      "Epoch 48/200\n",
      "648/648 [==============================] - 1s 1ms/step - loss: 0.2114 - accuracy: 0.9205 - val_loss: 0.1822 - val_accuracy: 0.9272\n",
      "Epoch 49/200\n",
      "648/648 [==============================] - 1s 1ms/step - loss: 0.2122 - accuracy: 0.9199 - val_loss: 0.1819 - val_accuracy: 0.9272\n",
      "Epoch 50/200\n",
      "648/648 [==============================] - 1s 1ms/step - loss: 0.2054 - accuracy: 0.9210 - val_loss: 0.1812 - val_accuracy: 0.9291\n",
      "Epoch 51/200\n",
      "648/648 [==============================] - 1s 1ms/step - loss: 0.2123 - accuracy: 0.9185 - val_loss: 0.1816 - val_accuracy: 0.9272\n",
      "Epoch 52/200\n",
      "648/648 [==============================] - 1s 1ms/step - loss: 0.2082 - accuracy: 0.9193 - val_loss: 0.1813 - val_accuracy: 0.9297\n",
      "Epoch 53/200\n",
      "648/648 [==============================] - 1s 1ms/step - loss: 0.2064 - accuracy: 0.9224 - val_loss: 0.1798 - val_accuracy: 0.9315\n",
      "Epoch 54/200\n",
      "648/648 [==============================] - 1s 1ms/step - loss: 0.2053 - accuracy: 0.9227 - val_loss: 0.1803 - val_accuracy: 0.9278\n",
      "Epoch 55/200\n",
      "648/648 [==============================] - 1s 1ms/step - loss: 0.2031 - accuracy: 0.9218 - val_loss: 0.1793 - val_accuracy: 0.9284\n",
      "Epoch 56/200\n",
      "648/648 [==============================] - 1s 1ms/step - loss: 0.2013 - accuracy: 0.9252 - val_loss: 0.1782 - val_accuracy: 0.9309\n",
      "Epoch 57/200\n",
      "648/648 [==============================] - 1s 1ms/step - loss: 0.2011 - accuracy: 0.9230 - val_loss: 0.1783 - val_accuracy: 0.9309\n",
      "Epoch 58/200\n",
      "648/648 [==============================] - 1s 1ms/step - loss: 0.2063 - accuracy: 0.9227 - val_loss: 0.1779 - val_accuracy: 0.9321\n",
      "Epoch 59/200\n",
      "648/648 [==============================] - 1s 1ms/step - loss: 0.2023 - accuracy: 0.9218 - val_loss: 0.1780 - val_accuracy: 0.9297\n",
      "Epoch 60/200\n",
      "648/648 [==============================] - 1s 1ms/step - loss: 0.1992 - accuracy: 0.9252 - val_loss: 0.1780 - val_accuracy: 0.9309\n",
      "Epoch 61/200\n",
      "648/648 [==============================] - 1s 1ms/step - loss: 0.2011 - accuracy: 0.9245 - val_loss: 0.1770 - val_accuracy: 0.9321\n",
      "Epoch 62/200\n",
      "648/648 [==============================] - 1s 1ms/step - loss: 0.1993 - accuracy: 0.9259 - val_loss: 0.1769 - val_accuracy: 0.9309\n",
      "Epoch 63/200\n",
      "648/648 [==============================] - 1s 1ms/step - loss: 0.1970 - accuracy: 0.9241 - val_loss: 0.1772 - val_accuracy: 0.9297\n",
      "Epoch 64/200\n",
      "648/648 [==============================] - 1s 1ms/step - loss: 0.1971 - accuracy: 0.9241 - val_loss: 0.1767 - val_accuracy: 0.9303\n",
      "Epoch 65/200\n",
      "648/648 [==============================] - 1s 1ms/step - loss: 0.1995 - accuracy: 0.9207 - val_loss: 0.1762 - val_accuracy: 0.9303\n",
      "Epoch 66/200\n",
      "648/648 [==============================] - 1s 1ms/step - loss: 0.1974 - accuracy: 0.9250 - val_loss: 0.1759 - val_accuracy: 0.9291\n",
      "Epoch 67/200\n",
      "648/648 [==============================] - 1s 1ms/step - loss: 0.1925 - accuracy: 0.9275 - val_loss: 0.1764 - val_accuracy: 0.9284\n",
      "Epoch 68/200\n",
      "648/648 [==============================] - 1s 1ms/step - loss: 0.1964 - accuracy: 0.9256 - val_loss: 0.1756 - val_accuracy: 0.9284\n",
      "Epoch 69/200\n",
      "648/648 [==============================] - 1s 1ms/step - loss: 0.1957 - accuracy: 0.9218 - val_loss: 0.1762 - val_accuracy: 0.9284\n",
      "Epoch 70/200\n",
      "648/648 [==============================] - 1s 1ms/step - loss: 0.1912 - accuracy: 0.9255 - val_loss: 0.1757 - val_accuracy: 0.9291\n",
      "Epoch 71/200\n",
      "648/648 [==============================] - 1s 1ms/step - loss: 0.1980 - accuracy: 0.9219 - val_loss: 0.1757 - val_accuracy: 0.9309\n",
      "Epoch 72/200\n",
      "648/648 [==============================] - 1s 1ms/step - loss: 0.1914 - accuracy: 0.9281 - val_loss: 0.1764 - val_accuracy: 0.9303\n",
      "Epoch 73/200\n",
      "648/648 [==============================] - 1s 1ms/step - loss: 0.1903 - accuracy: 0.9264 - val_loss: 0.1750 - val_accuracy: 0.9291\n",
      "Epoch 74/200\n",
      "648/648 [==============================] - 1s 1ms/step - loss: 0.1941 - accuracy: 0.9258 - val_loss: 0.1754 - val_accuracy: 0.9303\n",
      "Epoch 75/200\n",
      "648/648 [==============================] - 1s 1ms/step - loss: 0.1912 - accuracy: 0.9282 - val_loss: 0.1756 - val_accuracy: 0.9266\n",
      "Epoch 76/200\n",
      "648/648 [==============================] - 1s 1ms/step - loss: 0.1922 - accuracy: 0.9267 - val_loss: 0.1759 - val_accuracy: 0.9272\n",
      "Epoch 77/200\n",
      "648/648 [==============================] - 1s 1ms/step - loss: 0.1925 - accuracy: 0.9248 - val_loss: 0.1758 - val_accuracy: 0.9272\n",
      "Epoch 78/200\n",
      "648/648 [==============================] - 1s 1ms/step - loss: 0.1933 - accuracy: 0.9244 - val_loss: 0.1761 - val_accuracy: 0.9266\n",
      "Epoch 79/200\n",
      "648/648 [==============================] - 1s 1ms/step - loss: 0.1926 - accuracy: 0.9279 - val_loss: 0.1755 - val_accuracy: 0.9291\n",
      "Epoch 80/200\n",
      "648/648 [==============================] - 1s 1ms/step - loss: 0.1840 - accuracy: 0.9278 - val_loss: 0.1761 - val_accuracy: 0.9328\n",
      "Epoch 81/200\n",
      "648/648 [==============================] - 1s 1ms/step - loss: 0.1870 - accuracy: 0.9285 - val_loss: 0.1741 - val_accuracy: 0.9284\n",
      "Epoch 82/200\n",
      "648/648 [==============================] - 1s 1ms/step - loss: 0.1882 - accuracy: 0.9281 - val_loss: 0.1744 - val_accuracy: 0.9284\n",
      "Epoch 83/200\n",
      "648/648 [==============================] - 1s 1ms/step - loss: 0.1874 - accuracy: 0.9270 - val_loss: 0.1740 - val_accuracy: 0.9303\n",
      "Epoch 84/200\n",
      "648/648 [==============================] - 1s 1ms/step - loss: 0.1824 - accuracy: 0.9301 - val_loss: 0.1740 - val_accuracy: 0.9297\n",
      "Epoch 85/200\n",
      "648/648 [==============================] - 1s 1ms/step - loss: 0.1798 - accuracy: 0.9309 - val_loss: 0.1747 - val_accuracy: 0.9266\n",
      "Epoch 86/200\n",
      "648/648 [==============================] - 1s 1ms/step - loss: 0.1866 - accuracy: 0.9231 - val_loss: 0.1743 - val_accuracy: 0.9284\n",
      "Epoch 87/200\n",
      "648/648 [==============================] - 1s 1ms/step - loss: 0.1795 - accuracy: 0.9302 - val_loss: 0.1740 - val_accuracy: 0.9303\n",
      "Epoch 88/200\n",
      "648/648 [==============================] - 1s 1ms/step - loss: 0.1850 - accuracy: 0.9295 - val_loss: 0.1742 - val_accuracy: 0.9284\n",
      "Epoch 89/200\n",
      "648/648 [==============================] - 1s 1ms/step - loss: 0.1878 - accuracy: 0.9285 - val_loss: 0.1730 - val_accuracy: 0.9303\n",
      "Epoch 90/200\n",
      "648/648 [==============================] - 1s 1ms/step - loss: 0.1798 - accuracy: 0.9323 - val_loss: 0.1740 - val_accuracy: 0.9321\n",
      "Epoch 91/200\n",
      "648/648 [==============================] - 1s 1ms/step - loss: 0.1850 - accuracy: 0.9299 - val_loss: 0.1737 - val_accuracy: 0.9272\n",
      "Epoch 92/200\n",
      "648/648 [==============================] - 1s 1ms/step - loss: 0.1821 - accuracy: 0.9318 - val_loss: 0.1735 - val_accuracy: 0.9315\n",
      "Epoch 93/200\n",
      "648/648 [==============================] - 1s 1ms/step - loss: 0.1807 - accuracy: 0.9273 - val_loss: 0.1725 - val_accuracy: 0.9315\n",
      "Epoch 94/200\n",
      "648/648 [==============================] - 1s 1ms/step - loss: 0.1830 - accuracy: 0.9296 - val_loss: 0.1733 - val_accuracy: 0.9315\n",
      "Epoch 95/200\n",
      "648/648 [==============================] - 1s 1ms/step - loss: 0.1838 - accuracy: 0.9281 - val_loss: 0.1737 - val_accuracy: 0.9334\n",
      "Epoch 96/200\n",
      "648/648 [==============================] - 1s 1ms/step - loss: 0.1781 - accuracy: 0.9315 - val_loss: 0.1724 - val_accuracy: 0.9297\n",
      "Epoch 97/200\n",
      "648/648 [==============================] - 1s 1ms/step - loss: 0.1826 - accuracy: 0.9273 - val_loss: 0.1714 - val_accuracy: 0.9340\n",
      "Epoch 98/200\n",
      "648/648 [==============================] - 1s 1ms/step - loss: 0.1792 - accuracy: 0.9298 - val_loss: 0.1715 - val_accuracy: 0.9346\n",
      "Epoch 99/200\n",
      "648/648 [==============================] - 1s 1ms/step - loss: 0.1770 - accuracy: 0.9318 - val_loss: 0.1715 - val_accuracy: 0.9321\n",
      "Epoch 100/200\n",
      "648/648 [==============================] - 1s 1ms/step - loss: 0.1805 - accuracy: 0.9284 - val_loss: 0.1719 - val_accuracy: 0.9328\n",
      "Epoch 101/200\n",
      "648/648 [==============================] - 1s 1ms/step - loss: 0.1754 - accuracy: 0.9298 - val_loss: 0.1721 - val_accuracy: 0.9346\n",
      "Epoch 102/200\n",
      "648/648 [==============================] - 1s 1ms/step - loss: 0.1774 - accuracy: 0.9315 - val_loss: 0.1713 - val_accuracy: 0.9315\n",
      "Epoch 103/200\n",
      "648/648 [==============================] - 1s 1ms/step - loss: 0.1752 - accuracy: 0.9332 - val_loss: 0.1716 - val_accuracy: 0.9346\n",
      "Epoch 104/200\n",
      "648/648 [==============================] - 1s 1ms/step - loss: 0.1755 - accuracy: 0.9321 - val_loss: 0.1718 - val_accuracy: 0.9346\n",
      "Epoch 105/200\n",
      "648/648 [==============================] - 1s 1ms/step - loss: 0.1700 - accuracy: 0.9336 - val_loss: 0.1718 - val_accuracy: 0.9340\n",
      "Epoch 106/200\n",
      "648/648 [==============================] - 1s 1ms/step - loss: 0.1763 - accuracy: 0.9363 - val_loss: 0.1711 - val_accuracy: 0.9328\n",
      "Epoch 107/200\n",
      "648/648 [==============================] - 1s 1ms/step - loss: 0.1698 - accuracy: 0.9375 - val_loss: 0.1711 - val_accuracy: 0.9365\n",
      "Epoch 108/200\n",
      "648/648 [==============================] - 1s 1ms/step - loss: 0.1761 - accuracy: 0.9309 - val_loss: 0.1719 - val_accuracy: 0.9352\n",
      "Epoch 109/200\n",
      "648/648 [==============================] - 1s 1ms/step - loss: 0.1732 - accuracy: 0.9347 - val_loss: 0.1698 - val_accuracy: 0.9334\n",
      "Epoch 110/200\n",
      "648/648 [==============================] - 1s 1ms/step - loss: 0.1733 - accuracy: 0.9313 - val_loss: 0.1698 - val_accuracy: 0.9328\n",
      "Epoch 111/200\n",
      "648/648 [==============================] - 1s 1ms/step - loss: 0.1729 - accuracy: 0.9341 - val_loss: 0.1697 - val_accuracy: 0.9352\n",
      "Epoch 112/200\n",
      "648/648 [==============================] - 1s 1ms/step - loss: 0.1765 - accuracy: 0.9356 - val_loss: 0.1694 - val_accuracy: 0.9340\n",
      "Epoch 113/200\n",
      "648/648 [==============================] - 1s 1ms/step - loss: 0.1750 - accuracy: 0.9306 - val_loss: 0.1697 - val_accuracy: 0.9352\n",
      "Epoch 114/200\n",
      "648/648 [==============================] - 1s 1ms/step - loss: 0.1733 - accuracy: 0.9330 - val_loss: 0.1699 - val_accuracy: 0.9340\n",
      "Epoch 115/200\n",
      "648/648 [==============================] - 1s 1ms/step - loss: 0.1754 - accuracy: 0.9330 - val_loss: 0.1691 - val_accuracy: 0.9365\n",
      "Epoch 116/200\n",
      "648/648 [==============================] - 1s 1ms/step - loss: 0.1734 - accuracy: 0.9318 - val_loss: 0.1696 - val_accuracy: 0.9371\n",
      "Epoch 117/200\n",
      "648/648 [==============================] - 1s 1ms/step - loss: 0.1652 - accuracy: 0.9347 - val_loss: 0.1685 - val_accuracy: 0.9365\n",
      "Epoch 118/200\n",
      "648/648 [==============================] - 1s 1ms/step - loss: 0.1688 - accuracy: 0.9347 - val_loss: 0.1686 - val_accuracy: 0.9365\n",
      "Epoch 119/200\n",
      "648/648 [==============================] - 1s 1ms/step - loss: 0.1684 - accuracy: 0.9356 - val_loss: 0.1681 - val_accuracy: 0.9365\n",
      "Epoch 120/200\n",
      "648/648 [==============================] - 1s 1ms/step - loss: 0.1677 - accuracy: 0.9326 - val_loss: 0.1684 - val_accuracy: 0.9395\n",
      "Epoch 121/200\n",
      "648/648 [==============================] - 1s 1ms/step - loss: 0.1653 - accuracy: 0.9375 - val_loss: 0.1690 - val_accuracy: 0.9395\n",
      "Epoch 122/200\n",
      "648/648 [==============================] - 1s 1ms/step - loss: 0.1710 - accuracy: 0.9349 - val_loss: 0.1687 - val_accuracy: 0.9389\n",
      "Epoch 123/200\n",
      "648/648 [==============================] - 1s 1ms/step - loss: 0.1680 - accuracy: 0.9353 - val_loss: 0.1691 - val_accuracy: 0.9371\n",
      "Epoch 124/200\n",
      "648/648 [==============================] - 1s 1ms/step - loss: 0.1671 - accuracy: 0.9367 - val_loss: 0.1699 - val_accuracy: 0.9352\n",
      "Epoch 125/200\n",
      "648/648 [==============================] - 1s 1ms/step - loss: 0.1671 - accuracy: 0.9353 - val_loss: 0.1680 - val_accuracy: 0.9389\n",
      "Epoch 126/200\n",
      "648/648 [==============================] - 1s 1ms/step - loss: 0.1680 - accuracy: 0.9360 - val_loss: 0.1668 - val_accuracy: 0.9389\n",
      "Epoch 127/200\n",
      "648/648 [==============================] - 1s 1ms/step - loss: 0.1637 - accuracy: 0.9349 - val_loss: 0.1670 - val_accuracy: 0.9395\n",
      "Epoch 128/200\n",
      "648/648 [==============================] - 1s 1ms/step - loss: 0.1630 - accuracy: 0.9364 - val_loss: 0.1678 - val_accuracy: 0.9371\n",
      "Epoch 129/200\n",
      "648/648 [==============================] - 1s 1ms/step - loss: 0.1613 - accuracy: 0.9407 - val_loss: 0.1671 - val_accuracy: 0.9377\n",
      "Epoch 130/200\n",
      "648/648 [==============================] - 1s 1ms/step - loss: 0.1660 - accuracy: 0.9363 - val_loss: 0.1676 - val_accuracy: 0.9365\n",
      "Epoch 131/200\n",
      "648/648 [==============================] - 1s 1ms/step - loss: 0.1650 - accuracy: 0.9375 - val_loss: 0.1680 - val_accuracy: 0.9365\n",
      "Epoch 132/200\n",
      "648/648 [==============================] - 1s 1ms/step - loss: 0.1657 - accuracy: 0.9363 - val_loss: 0.1664 - val_accuracy: 0.9395\n",
      "Epoch 133/200\n",
      "648/648 [==============================] - 1s 1ms/step - loss: 0.1601 - accuracy: 0.9412 - val_loss: 0.1656 - val_accuracy: 0.9389\n",
      "Epoch 134/200\n",
      "648/648 [==============================] - 1s 1ms/step - loss: 0.1572 - accuracy: 0.9384 - val_loss: 0.1664 - val_accuracy: 0.9377\n",
      "Epoch 135/200\n",
      "648/648 [==============================] - 1s 1ms/step - loss: 0.1555 - accuracy: 0.9395 - val_loss: 0.1666 - val_accuracy: 0.9389\n",
      "Epoch 136/200\n",
      "648/648 [==============================] - 1s 1ms/step - loss: 0.1612 - accuracy: 0.9380 - val_loss: 0.1660 - val_accuracy: 0.9389\n",
      "Epoch 137/200\n",
      "648/648 [==============================] - 1s 1ms/step - loss: 0.1554 - accuracy: 0.9404 - val_loss: 0.1669 - val_accuracy: 0.9358\n",
      "Epoch 138/200\n",
      "648/648 [==============================] - 1s 1ms/step - loss: 0.1592 - accuracy: 0.9363 - val_loss: 0.1663 - val_accuracy: 0.9365\n",
      "Epoch 139/200\n",
      "648/648 [==============================] - 1s 1ms/step - loss: 0.1576 - accuracy: 0.9395 - val_loss: 0.1663 - val_accuracy: 0.9371\n",
      "Epoch 140/200\n",
      "648/648 [==============================] - 1s 1ms/step - loss: 0.1574 - accuracy: 0.9407 - val_loss: 0.1664 - val_accuracy: 0.9352\n",
      "Epoch 141/200\n",
      "648/648 [==============================] - 1s 1ms/step - loss: 0.1519 - accuracy: 0.9392 - val_loss: 0.1658 - val_accuracy: 0.9395\n",
      "Epoch 142/200\n",
      "648/648 [==============================] - 1s 1ms/step - loss: 0.1612 - accuracy: 0.9373 - val_loss: 0.1660 - val_accuracy: 0.9383\n",
      "Epoch 143/200\n",
      "648/648 [==============================] - 1s 1ms/step - loss: 0.1588 - accuracy: 0.9417 - val_loss: 0.1658 - val_accuracy: 0.9377\n",
      "Epoch 144/200\n",
      "648/648 [==============================] - 1s 1ms/step - loss: 0.1525 - accuracy: 0.9403 - val_loss: 0.1667 - val_accuracy: 0.9371\n",
      "Epoch 145/200\n",
      "648/648 [==============================] - 1s 1ms/step - loss: 0.1536 - accuracy: 0.9406 - val_loss: 0.1664 - val_accuracy: 0.9371\n",
      "Epoch 146/200\n",
      "648/648 [==============================] - 1s 1ms/step - loss: 0.1529 - accuracy: 0.9404 - val_loss: 0.1676 - val_accuracy: 0.9365\n",
      "Epoch 147/200\n",
      "648/648 [==============================] - 1s 1ms/step - loss: 0.1534 - accuracy: 0.9412 - val_loss: 0.1663 - val_accuracy: 0.9365\n",
      "Epoch 148/200\n",
      "648/648 [==============================] - 1s 1ms/step - loss: 0.1516 - accuracy: 0.9431 - val_loss: 0.1682 - val_accuracy: 0.9371\n",
      "Epoch 149/200\n",
      "648/648 [==============================] - 1s 1ms/step - loss: 0.1484 - accuracy: 0.9421 - val_loss: 0.1666 - val_accuracy: 0.9377\n",
      "Epoch 150/200\n",
      "648/648 [==============================] - 1s 1ms/step - loss: 0.1558 - accuracy: 0.9381 - val_loss: 0.1664 - val_accuracy: 0.9371\n",
      "Epoch 151/200\n",
      "648/648 [==============================] - 1s 1ms/step - loss: 0.1550 - accuracy: 0.9418 - val_loss: 0.1655 - val_accuracy: 0.9377\n",
      "Epoch 152/200\n",
      "648/648 [==============================] - 1s 1ms/step - loss: 0.1494 - accuracy: 0.9395 - val_loss: 0.1656 - val_accuracy: 0.9383\n",
      "Epoch 153/200\n",
      "648/648 [==============================] - 1s 1ms/step - loss: 0.1507 - accuracy: 0.9420 - val_loss: 0.1652 - val_accuracy: 0.9402\n",
      "Epoch 154/200\n",
      "648/648 [==============================] - 1s 1ms/step - loss: 0.1558 - accuracy: 0.9392 - val_loss: 0.1646 - val_accuracy: 0.9389\n",
      "Epoch 155/200\n",
      "648/648 [==============================] - 1s 1ms/step - loss: 0.1522 - accuracy: 0.9403 - val_loss: 0.1653 - val_accuracy: 0.9383\n",
      "Epoch 156/200\n",
      "648/648 [==============================] - 1s 1ms/step - loss: 0.1490 - accuracy: 0.9404 - val_loss: 0.1655 - val_accuracy: 0.9395\n",
      "Epoch 157/200\n",
      "648/648 [==============================] - 1s 1ms/step - loss: 0.1469 - accuracy: 0.9444 - val_loss: 0.1651 - val_accuracy: 0.9389\n",
      "Epoch 158/200\n",
      "648/648 [==============================] - 1s 1ms/step - loss: 0.1485 - accuracy: 0.9418 - val_loss: 0.1643 - val_accuracy: 0.9402\n",
      "Epoch 159/200\n",
      "648/648 [==============================] - 1s 1ms/step - loss: 0.1469 - accuracy: 0.9448 - val_loss: 0.1648 - val_accuracy: 0.9371\n",
      "Epoch 160/200\n",
      "648/648 [==============================] - 1s 1ms/step - loss: 0.1487 - accuracy: 0.9414 - val_loss: 0.1655 - val_accuracy: 0.9377\n",
      "Epoch 161/200\n",
      "648/648 [==============================] - 1s 1ms/step - loss: 0.1454 - accuracy: 0.9451 - val_loss: 0.1663 - val_accuracy: 0.9395\n",
      "Epoch 162/200\n",
      "648/648 [==============================] - 1s 1ms/step - loss: 0.1422 - accuracy: 0.9455 - val_loss: 0.1649 - val_accuracy: 0.9414\n",
      "Epoch 163/200\n",
      "648/648 [==============================] - 1s 1ms/step - loss: 0.1475 - accuracy: 0.9448 - val_loss: 0.1632 - val_accuracy: 0.9371\n",
      "Epoch 164/200\n",
      "648/648 [==============================] - 1s 1ms/step - loss: 0.1445 - accuracy: 0.9457 - val_loss: 0.1647 - val_accuracy: 0.9389\n",
      "Epoch 165/200\n",
      "648/648 [==============================] - 1s 1ms/step - loss: 0.1489 - accuracy: 0.9468 - val_loss: 0.1639 - val_accuracy: 0.9389\n",
      "Epoch 166/200\n",
      "648/648 [==============================] - 1s 1ms/step - loss: 0.1504 - accuracy: 0.9437 - val_loss: 0.1637 - val_accuracy: 0.9420\n",
      "Epoch 167/200\n",
      "648/648 [==============================] - 1s 1ms/step - loss: 0.1438 - accuracy: 0.9449 - val_loss: 0.1641 - val_accuracy: 0.9340\n",
      "Epoch 168/200\n",
      "648/648 [==============================] - 1s 1ms/step - loss: 0.1471 - accuracy: 0.9440 - val_loss: 0.1647 - val_accuracy: 0.9383\n",
      "Epoch 169/200\n",
      "648/648 [==============================] - 1s 1ms/step - loss: 0.1427 - accuracy: 0.9466 - val_loss: 0.1656 - val_accuracy: 0.9408\n",
      "Epoch 170/200\n",
      "648/648 [==============================] - 1s 1ms/step - loss: 0.1444 - accuracy: 0.9460 - val_loss: 0.1647 - val_accuracy: 0.9352\n",
      "Epoch 171/200\n",
      "648/648 [==============================] - 1s 1ms/step - loss: 0.1421 - accuracy: 0.9423 - val_loss: 0.1643 - val_accuracy: 0.9371\n",
      "Epoch 172/200\n",
      "648/648 [==============================] - 1s 1ms/step - loss: 0.1457 - accuracy: 0.9458 - val_loss: 0.1645 - val_accuracy: 0.9414\n",
      "Epoch 173/200\n",
      "648/648 [==============================] - 1s 1ms/step - loss: 0.1437 - accuracy: 0.9468 - val_loss: 0.1646 - val_accuracy: 0.9389\n",
      "Epoch 174/200\n",
      "648/648 [==============================] - 1s 1ms/step - loss: 0.1389 - accuracy: 0.9492 - val_loss: 0.1655 - val_accuracy: 0.9389\n",
      "Epoch 175/200\n",
      "648/648 [==============================] - 1s 1ms/step - loss: 0.1385 - accuracy: 0.9483 - val_loss: 0.1642 - val_accuracy: 0.9395\n",
      "Epoch 176/200\n",
      "648/648 [==============================] - 1s 1ms/step - loss: 0.1436 - accuracy: 0.9444 - val_loss: 0.1647 - val_accuracy: 0.9402\n",
      "Epoch 177/200\n",
      "648/648 [==============================] - 1s 1ms/step - loss: 0.1423 - accuracy: 0.9441 - val_loss: 0.1644 - val_accuracy: 0.9395\n",
      "Epoch 178/200\n",
      "648/648 [==============================] - 1s 1ms/step - loss: 0.1385 - accuracy: 0.9481 - val_loss: 0.1639 - val_accuracy: 0.9371\n",
      "Epoch 179/200\n",
      "648/648 [==============================] - 1s 1ms/step - loss: 0.1334 - accuracy: 0.9489 - val_loss: 0.1653 - val_accuracy: 0.9377\n",
      "Epoch 180/200\n",
      "648/648 [==============================] - 1s 1ms/step - loss: 0.1469 - accuracy: 0.9477 - val_loss: 0.1645 - val_accuracy: 0.9395\n",
      "Epoch 181/200\n",
      "648/648 [==============================] - 1s 1ms/step - loss: 0.1364 - accuracy: 0.9472 - val_loss: 0.1626 - val_accuracy: 0.9365\n",
      "Epoch 182/200\n",
      "648/648 [==============================] - 1s 1ms/step - loss: 0.1402 - accuracy: 0.9472 - val_loss: 0.1616 - val_accuracy: 0.9395\n",
      "Epoch 183/200\n",
      "648/648 [==============================] - 1s 1ms/step - loss: 0.1379 - accuracy: 0.9492 - val_loss: 0.1643 - val_accuracy: 0.9402\n",
      "Epoch 184/200\n",
      "648/648 [==============================] - 1s 1ms/step - loss: 0.1364 - accuracy: 0.9497 - val_loss: 0.1630 - val_accuracy: 0.9389\n",
      "Epoch 185/200\n",
      "648/648 [==============================] - 1s 1ms/step - loss: 0.1360 - accuracy: 0.9489 - val_loss: 0.1644 - val_accuracy: 0.9402\n",
      "Epoch 186/200\n",
      "648/648 [==============================] - 1s 1ms/step - loss: 0.1339 - accuracy: 0.9511 - val_loss: 0.1653 - val_accuracy: 0.9389\n",
      "Epoch 187/200\n",
      "648/648 [==============================] - 1s 1ms/step - loss: 0.1322 - accuracy: 0.9514 - val_loss: 0.1657 - val_accuracy: 0.9414\n",
      "Epoch 188/200\n",
      "648/648 [==============================] - 1s 1ms/step - loss: 0.1318 - accuracy: 0.9497 - val_loss: 0.1649 - val_accuracy: 0.9383\n",
      "Epoch 189/200\n",
      "648/648 [==============================] - 1s 1ms/step - loss: 0.1370 - accuracy: 0.9495 - val_loss: 0.1639 - val_accuracy: 0.9383\n",
      "Epoch 190/200\n",
      "648/648 [==============================] - 1s 1ms/step - loss: 0.1300 - accuracy: 0.9517 - val_loss: 0.1652 - val_accuracy: 0.9395\n",
      "Epoch 191/200\n",
      "648/648 [==============================] - 1s 1ms/step - loss: 0.1328 - accuracy: 0.9461 - val_loss: 0.1620 - val_accuracy: 0.9389\n",
      "Epoch 192/200\n",
      "648/648 [==============================] - 1s 1ms/step - loss: 0.1356 - accuracy: 0.9494 - val_loss: 0.1616 - val_accuracy: 0.9383\n",
      "Epoch 193/200\n",
      "648/648 [==============================] - 1s 1ms/step - loss: 0.1329 - accuracy: 0.9478 - val_loss: 0.1620 - val_accuracy: 0.9389\n",
      "Epoch 194/200\n",
      "648/648 [==============================] - 1s 1ms/step - loss: 0.1317 - accuracy: 0.9534 - val_loss: 0.1627 - val_accuracy: 0.9377\n",
      "Epoch 195/200\n",
      "648/648 [==============================] - 1s 1ms/step - loss: 0.1315 - accuracy: 0.9497 - val_loss: 0.1639 - val_accuracy: 0.9377\n",
      "Epoch 196/200\n",
      "648/648 [==============================] - 1s 1ms/step - loss: 0.1330 - accuracy: 0.9514 - val_loss: 0.1613 - val_accuracy: 0.9365\n",
      "Epoch 197/200\n",
      "648/648 [==============================] - 1s 1ms/step - loss: 0.1324 - accuracy: 0.9519 - val_loss: 0.1638 - val_accuracy: 0.9395\n",
      "Epoch 198/200\n",
      "648/648 [==============================] - 1s 1ms/step - loss: 0.1300 - accuracy: 0.9517 - val_loss: 0.1633 - val_accuracy: 0.9377\n",
      "Epoch 199/200\n",
      "648/648 [==============================] - 1s 1ms/step - loss: 0.1290 - accuracy: 0.9535 - val_loss: 0.1636 - val_accuracy: 0.9383\n",
      "Epoch 200/200\n",
      "648/648 [==============================] - 1s 1ms/step - loss: 0.1292 - accuracy: 0.9489 - val_loss: 0.1626 - val_accuracy: 0.9389\n"
     ]
    }
   ],
   "source": [
    "import tensorflow as tf\n",
    "\n",
    "from tensorflow.keras.models import Sequential\n",
    "from keras.layers import Dropout ,Dense\n",
    "\n",
    "\n",
    "model = Sequential()\n",
    "\n",
    "# layers\n",
    "\n",
    "model.add(Dense(units = 32, kernel_initializer = 'uniform', activation = 'relu'))\n",
    "\n",
    "\n",
    "model.add(Dense(units = 16, kernel_initializer = 'uniform', activation = 'relu'))\n",
    "\n",
    "\n",
    "\n",
    "model.add(Dense(units = 8, kernel_initializer = 'uniform', activation = 'relu'))\n",
    "model.add(Dropout(0.5))\n",
    "\n",
    "\n",
    "model.add(Dense(units = 1, kernel_initializer = 'uniform', activation = 'sigmoid'))\n",
    "\n",
    "# Compiling the ANN\n",
    "opt =  tf.keras.optimizers.Adam(learning_rate=0.00009)\n",
    "model.compile(optimizer = opt, loss = 'binary_crossentropy', metrics = ['accuracy'])\n",
    "\n",
    "# Train the ANN\n",
    "history = model.fit(X_train, y_train, batch_size = 10, epochs = 200, validation_split=0.2)"
   ]
  },
  {
   "cell_type": "code",
   "execution_count": 74,
   "id": "b702165b",
   "metadata": {},
   "outputs": [
    {
     "data": {
      "image/png": "[encoded data removed]",
      "text/plain": [
       "<Figure size 432x288 with 1 Axes>"
      ]
     },
     "metadata": {
      "needs_background": "light"
     },
     "output_type": "display_data"
    }
   ],
   "source": [
    "history_df = pd.DataFrame(history.history)\n",
    "\n",
    "plt.plot(history_df.loc[:, ['loss']], label='Training loss')\n",
    "plt.plot(history_df.loc[:, ['val_loss']], label='Validation loss')\n",
    "plt.title('Training and Validation loss')\n",
    "plt.xlabel('Epochs')\n",
    "plt.ylabel('Loss')\n",
    "plt.legend(loc=\"best\")\n",
    "\n",
    "plt.show()"
   ]
  },
  {
   "cell_type": "code",
   "execution_count": 75,
   "id": "4a835602",
   "metadata": {},
   "outputs": [
    {
     "data": {
      "image/png": "[encoded data removed]",
      "text/plain": [
       "<Figure size 432x288 with 1 Axes>"
      ]
     },
     "metadata": {
      "needs_background": "light"
     },
     "output_type": "display_data"
    }
   ],
   "source": [
    "plt.plot(history_df.loc[:, ['accuracy']], label='Training accuracy')\n",
    "plt.plot(history_df.loc[:, ['val_accuracy']], label='Validation accuracy')\n",
    "plt.title('Training and Validation Accuracy')\n",
    "plt.xlabel('Epochs')\n",
    "plt.ylabel('Accuracy ')\n",
    "plt.legend(loc=\"best\")\n",
    "\n",
    "plt.show()"
   ]
  },
  {
   "cell_type": "code",
   "execution_count": 82,
   "id": "7a0eaec2",
   "metadata": {},
   "outputs": [],
   "source": [
    "\n",
    "y_pred = model.predict(X_test)"
   ]
  },
  {
   "cell_type": "code",
   "execution_count": 89,
   "id": "9de043bd",
   "metadata": {},
   "outputs": [
    {
     "name": "stdout",
     "output_type": "stream",
     "text": [
      "AUC: 96.92%\n",
      "Best threshold value is: 0.14591491\n"
     ]
    },
    {
     "data": {
      "image/png": "[encoded data removed]",
      "text/plain": [
       "<Figure size 432x288 with 1 Axes>"
      ]
     },
     "metadata": {
      "needs_background": "light"
     },
     "output_type": "display_data"
    }
   ],
   "source": [
    "from sklearn.metrics import roc_curve\n",
    "from sklearn.metrics import confusion_matrix, ConfusionMatrixDisplay, roc_auc_score, roc_curve\n",
    "\n",
    "false_positive_rate, true_positive_rate, threshold = roc_curve(y_test, y_pred)\n",
    "\n",
    "# Print model AUC\n",
    "print(\"AUC: %.2f%%\" % (roc_auc_score(y_test, y_pred) * 100.0))\n",
    "\n",
    "# Print best threshold\n",
    "optimal_idx = np.argmax(true_positive_rate - false_positive_rate)\n",
    "optimal_threshold = threshold[optimal_idx]\n",
    "print(\"Best threshold value is:\", optimal_threshold)\n",
    "\n",
    "# Ploting ROC curves\n",
    "plt.title('Receiver Operating Characteristic')\n",
    "plt.plot(false_positive_rate, true_positive_rate)\n",
    "plt.plot([0, 1], ls=\"--\")\n",
    "plt.plot([0, 0], [1, 0] , c=\".7\"), plt.plot([1, 1] , c=\".7\")\n",
    "plt.ylabel('True Positive Rate')\n",
    "plt.xlabel('False Positive Rate')\n",
    "plt.show()"
   ]
  },
  {
   "cell_type": "code",
   "execution_count": 90,
   "id": "391f02bb",
   "metadata": {},
   "outputs": [
    {
     "name": "stdout",
     "output_type": "stream",
     "text": [
      "              precision    recall  f1-score   support\n",
      "\n",
      "           0       0.94      0.98      0.96      1682\n",
      "           1       0.89      0.70      0.78       344\n",
      "\n",
      "    accuracy                           0.93      2026\n",
      "   macro avg       0.92      0.84      0.87      2026\n",
      "weighted avg       0.93      0.93      0.93      2026\n",
      "\n"
     ]
    }
   ],
   "source": [
    "from sklearn.metrics import classification_report, confusion_matrix, precision_score\n",
    "from sklearn.metrics import *\n",
    "\n",
    "y_pred=[1 if x>0.7 else 0 for x in y_pred]\n",
    "print(classification_report(y_test,y_pred))"
   ]
  },
  {
   "cell_type": "code",
   "execution_count": 91,
   "id": "b2bbb61e",
   "metadata": {},
   "outputs": [
    {
     "data": {
      "image/png": "[encoded data removed]",
      "text/plain": [
       "<Figure size 432x288 with 2 Axes>"
      ]
     },
     "metadata": {
      "needs_background": "light"
     },
     "output_type": "display_data"
    }
   ],
   "source": [
    "import seaborn as sns\n",
    "from sklearn.metrics import confusion_matrix\n",
    "\n",
    "cm = confusion_matrix(y_test, y_pred)\n",
    "ax = sns.heatmap(cm, annot=True, cmap='Blues')\n",
    "\n",
    "ax.set_title('Seaborn Confusion Matrix with labels\\n\\n');\n",
    "ax.set_xlabel('\\nPredicted Values')\n",
    "ax.set_ylabel('Actual Values ');\n",
    "\n",
    "## Ticket labels - List must be in alphabetical order\n",
    "ax.xaxis.set_ticklabels(['False','True'])\n",
    "ax.yaxis.set_ticklabels(['False','True'])\n",
    "\n",
    "## Display the visualization of the Confusion Matrix.\n",
    "plt.show()"
   ]
  },
  {
   "cell_type": "code",
   "execution_count": null,
   "id": "1810665e",
   "metadata": {},
   "outputs": [],
   "source": []
  },
  {
   "cell_type": "code",
   "execution_count": null,
   "id": "d2b23c3c",
   "metadata": {},
   "outputs": [],
   "source": []
  },
  {
   "cell_type": "code",
   "execution_count": null,
   "id": "4047e3d4",
   "metadata": {},
   "outputs": [],
   "source": []
  },
  {
   "cell_type": "code",
   "execution_count": null,
   "id": "3b14fcf3",
   "metadata": {},
   "outputs": [],
   "source": []
  },
  {
   "cell_type": "code",
   "execution_count": null,
   "id": "f668bcef",
   "metadata": {},
   "outputs": [],
   "source": []
  }
 ],
 "metadata": {
  "kernelspec": {
   "display_name": "Python 3",
   "language": "python",
   "name": "python3"
  },
  "language_info": {
   "codemirror_mode": {
    "name": "ipython",
    "version": 3
   },
   "file_extension": ".py",
   "mimetype": "text/x-python",
   "name": "python",
   "nbconvert_exporter": "python",
   "pygments_lexer": "ipython3",
   "version": "3.8.8"
  }
 },
 "nbformat": 4,
 "nbformat_minor": 5
}
