{
 "cells": [
  {
   "cell_type": "markdown",
   "id": "61c41e16",
   "metadata": {},
   "source": [
    "# Data Description from the data source\n",
    "\n",
    "  #Categorical Variables\n",
    "  - Clientnum: Unique identifier for the customer holding the account\n",
    "  - Attrition_Flag: flag to indicate if the customer is an existing customer or has attrited\n",
    "  - Customer_Age: Customer's Age in Years\n",
    "  - Gender: M=Male, F=Female\n",
    "  - Dependent_count: Number of dependents\n",
    "  - Education_Level: Educational Qualification of the account holder (example: high school, college graduate, etc.)\n",
    "  - Marital_Status: Demographic variable - Married, Single, Unknown\n",
    "  - Income_Category: Demographic variable - Annual Income Category of the account holder (<40K ,40K - 60K,60K - 80K,80K - 120K, > $120K, Unknown)\n",
    "\n",
    "  #Numerical Variables\n",
    "  - Card_Category: Type of Card (Blue, Silver, Gold, Platinum)\n",
    "  - Months_on_book: Months on book (Time of Relationship)\n",
    "  - Total_Relationship_Count: Total no. of products held by the customer\n",
    "  - Months_Inactive_12_mon: No. of months inactive in the last 12 months\n",
    "  - Contacts_Count_12_mon: Num No. of Contacts in the last 12 months\n",
    "  - Credit_Limit: Credit Limit on the Credit Card\n",
    "  - Total_Revolving_Bal: Total Revolving Balance on the Credit Card\n",
    "  - Avg_Open_To_Buy: Open to Buy Credit Line (Average of last 12 months)\n",
    "  - Total_Amt_Chng_Q4_Q1: Change in Transaction Amount (Q4 over Q1)\n",
    "  - Total_Trans_Amt: Total Transaction Amount (Last 12 months)\n",
    "  - Total_Trans_Ct: Total Transaction Count (Last 12 months)\n",
    "  - Total_Ct_Chng_Q4_Q1: Change in Transaction Count (Q4 over Q1)\n",
    "  - Avg_Utilization_Ratio: Average Card Utilization Ratio"
   ]
  },
  {
   "cell_type": "markdown",
   "id": "f23f66aa",
   "metadata": {},
   "source": [
    "# Libraries to import"
   ]
  },
  {
   "cell_type": "code",
   "execution_count": 114,
   "id": "12060ec9",
   "metadata": {},
   "outputs": [],
   "source": [
    "import os\n",
    "import numpy as np\n",
    "import pandas as pd\n",
    "import matplotlib.pyplot as plt\n",
    "import seaborn as sns\n",
    "import math\n",
    "from sklearn.model_selection import train_test_split\n",
    "from sklearn.svm import SVC\n",
    "from sklearn.metrics import classification_report, confusion_matrix, precision_score\n",
    "from sklearn.metrics import accuracy_score\n",
    "import matplotlib.pyplot as plt\n",
    "from sklearn.preprocessing import RobustScaler\n",
    "import warnings\n",
    "from sklearn.metrics import roc_curve\n",
    "\n",
    "from scipy.stats import boxcox\n",
    "\n",
    "\n",
    "\n",
    "# Sklearn\n",
    "from sklearn.preprocessing import OneHotEncoder, MinMaxScaler, StandardScaler\n",
    "from sklearn.feature_selection import mutual_info_classif, SelectKBest\n",
    "from sklearn.model_selection import train_test_split, cross_val_score, KFold\n",
    "from sklearn.metrics import confusion_matrix, ConfusionMatrixDisplay, roc_auc_score, roc_curve\n",
    "\n",
    "# ML Algorithms\n",
    "from sklearn.ensemble import RandomForestClassifier\n",
    "from sklearn.linear_model import LogisticRegression\n",
    "from xgboost import XGBClassifier\n",
    "\n",
    "\n",
    "\n",
    "import warnings\n",
    "warnings.filterwarnings(\"ignore\")"
   ]
  },
  {
   "cell_type": "markdown",
   "id": "fa425d23",
   "metadata": {},
   "source": [
    "# Load Data "
   ]
  },
  {
   "cell_type": "code",
   "execution_count": 115,
   "id": "20db82d0",
   "metadata": {},
   "outputs": [
    {
     "data": {
      "text/html": [
       "<div>\n",
       "<style scoped>\n",
       "    .dataframe tbody tr th:only-of-type {\n",
       "        vertical-align: middle;\n",
       "    }\n",
       "\n",
       "    .dataframe tbody tr th {\n",
       "        vertical-align: top;\n",
       "    }\n",
       "\n",
       "    .dataframe thead th {\n",
       "        text-align: right;\n",
       "    }\n",
       "</style>\n",
       "<table border=\"1\" class=\"dataframe\">\n",
       "  <thead>\n",
       "    <tr style=\"text-align: right;\">\n",
       "      <th></th>\n",
       "      <th>CLIENTNUM</th>\n",
       "      <th>Attrition_Flag</th>\n",
       "      <th>Customer_Age</th>\n",
       "      <th>Gender</th>\n",
       "      <th>Dependent_count</th>\n",
       "      <th>Education_Level</th>\n",
       "      <th>Marital_Status</th>\n",
       "      <th>Income_Category</th>\n",
       "      <th>Card_Category</th>\n",
       "      <th>Months_on_book</th>\n",
       "      <th>...</th>\n",
       "      <th>Credit_Limit</th>\n",
       "      <th>Total_Revolving_Bal</th>\n",
       "      <th>Avg_Open_To_Buy</th>\n",
       "      <th>Total_Amt_Chng_Q4_Q1</th>\n",
       "      <th>Total_Trans_Amt</th>\n",
       "      <th>Total_Trans_Ct</th>\n",
       "      <th>Total_Ct_Chng_Q4_Q1</th>\n",
       "      <th>Avg_Utilization_Ratio</th>\n",
       "      <th>Naive_Bayes_Classifier_Attrition_Flag_Card_Category_Contacts_Count_12_mon_Dependent_count_Education_Level_Months_Inactive_12_mon_1</th>\n",
       "      <th>Naive_Bayes_Classifier_Attrition_Flag_Card_Category_Contacts_Count_12_mon_Dependent_count_Education_Level_Months_Inactive_12_mon_2</th>\n",
       "    </tr>\n",
       "  </thead>\n",
       "  <tbody>\n",
       "    <tr>\n",
       "      <th>0</th>\n",
       "      <td>768805383</td>\n",
       "      <td>Existing Customer</td>\n",
       "      <td>45</td>\n",
       "      <td>M</td>\n",
       "      <td>3</td>\n",
       "      <td>High School</td>\n",
       "      <td>Married</td>\n",
       "      <td>$60K - $80K</td>\n",
       "      <td>Blue</td>\n",
       "      <td>39</td>\n",
       "      <td>...</td>\n",
       "      <td>12691.0</td>\n",
       "      <td>777</td>\n",
       "      <td>11914.0</td>\n",
       "      <td>1.335</td>\n",
       "      <td>1144</td>\n",
       "      <td>42</td>\n",
       "      <td>1.625</td>\n",
       "      <td>0.061</td>\n",
       "      <td>0.000093</td>\n",
       "      <td>0.99991</td>\n",
       "    </tr>\n",
       "    <tr>\n",
       "      <th>1</th>\n",
       "      <td>818770008</td>\n",
       "      <td>Existing Customer</td>\n",
       "      <td>49</td>\n",
       "      <td>F</td>\n",
       "      <td>5</td>\n",
       "      <td>Graduate</td>\n",
       "      <td>Single</td>\n",
       "      <td>Less than $40K</td>\n",
       "      <td>Blue</td>\n",
       "      <td>44</td>\n",
       "      <td>...</td>\n",
       "      <td>8256.0</td>\n",
       "      <td>864</td>\n",
       "      <td>7392.0</td>\n",
       "      <td>1.541</td>\n",
       "      <td>1291</td>\n",
       "      <td>33</td>\n",
       "      <td>3.714</td>\n",
       "      <td>0.105</td>\n",
       "      <td>0.000057</td>\n",
       "      <td>0.99994</td>\n",
       "    </tr>\n",
       "    <tr>\n",
       "      <th>2</th>\n",
       "      <td>713982108</td>\n",
       "      <td>Existing Customer</td>\n",
       "      <td>51</td>\n",
       "      <td>M</td>\n",
       "      <td>3</td>\n",
       "      <td>Graduate</td>\n",
       "      <td>Married</td>\n",
       "      <td>$80K - $120K</td>\n",
       "      <td>Blue</td>\n",
       "      <td>36</td>\n",
       "      <td>...</td>\n",
       "      <td>3418.0</td>\n",
       "      <td>0</td>\n",
       "      <td>3418.0</td>\n",
       "      <td>2.594</td>\n",
       "      <td>1887</td>\n",
       "      <td>20</td>\n",
       "      <td>2.333</td>\n",
       "      <td>0.000</td>\n",
       "      <td>0.000021</td>\n",
       "      <td>0.99998</td>\n",
       "    </tr>\n",
       "    <tr>\n",
       "      <th>3</th>\n",
       "      <td>769911858</td>\n",
       "      <td>Existing Customer</td>\n",
       "      <td>40</td>\n",
       "      <td>F</td>\n",
       "      <td>4</td>\n",
       "      <td>High School</td>\n",
       "      <td>Unknown</td>\n",
       "      <td>Less than $40K</td>\n",
       "      <td>Blue</td>\n",
       "      <td>34</td>\n",
       "      <td>...</td>\n",
       "      <td>3313.0</td>\n",
       "      <td>2517</td>\n",
       "      <td>796.0</td>\n",
       "      <td>1.405</td>\n",
       "      <td>1171</td>\n",
       "      <td>20</td>\n",
       "      <td>2.333</td>\n",
       "      <td>0.760</td>\n",
       "      <td>0.000134</td>\n",
       "      <td>0.99987</td>\n",
       "    </tr>\n",
       "    <tr>\n",
       "      <th>4</th>\n",
       "      <td>709106358</td>\n",
       "      <td>Existing Customer</td>\n",
       "      <td>40</td>\n",
       "      <td>M</td>\n",
       "      <td>3</td>\n",
       "      <td>Uneducated</td>\n",
       "      <td>Married</td>\n",
       "      <td>$60K - $80K</td>\n",
       "      <td>Blue</td>\n",
       "      <td>21</td>\n",
       "      <td>...</td>\n",
       "      <td>4716.0</td>\n",
       "      <td>0</td>\n",
       "      <td>4716.0</td>\n",
       "      <td>2.175</td>\n",
       "      <td>816</td>\n",
       "      <td>28</td>\n",
       "      <td>2.500</td>\n",
       "      <td>0.000</td>\n",
       "      <td>0.000022</td>\n",
       "      <td>0.99998</td>\n",
       "    </tr>\n",
       "  </tbody>\n",
       "</table>\n",
       "<p>5 rows × 23 columns</p>\n",
       "</div>"
      ],
      "text/plain": [
       "   CLIENTNUM     Attrition_Flag  Customer_Age Gender  Dependent_count  \\\n",
       "0  768805383  Existing Customer            45      M                3   \n",
       "1  818770008  Existing Customer            49      F                5   \n",
       "2  713982108  Existing Customer            51      M                3   \n",
       "3  769911858  Existing Customer            40      F                4   \n",
       "4  709106358  Existing Customer            40      M                3   \n",
       "\n",
       "  Education_Level Marital_Status Income_Category Card_Category  \\\n",
       "0     High School        Married     $60K - $80K          Blue   \n",
       "1        Graduate         Single  Less than $40K          Blue   \n",
       "2        Graduate        Married    $80K - $120K          Blue   \n",
       "3     High School        Unknown  Less than $40K          Blue   \n",
       "4      Uneducated        Married     $60K - $80K          Blue   \n",
       "\n",
       "   Months_on_book  ...  Credit_Limit  Total_Revolving_Bal  Avg_Open_To_Buy  \\\n",
       "0              39  ...       12691.0                  777          11914.0   \n",
       "1              44  ...        8256.0                  864           7392.0   \n",
       "2              36  ...        3418.0                    0           3418.0   \n",
       "3              34  ...        3313.0                 2517            796.0   \n",
       "4              21  ...        4716.0                    0           4716.0   \n",
       "\n",
       "   Total_Amt_Chng_Q4_Q1  Total_Trans_Amt  Total_Trans_Ct  Total_Ct_Chng_Q4_Q1  \\\n",
       "0                 1.335             1144              42                1.625   \n",
       "1                 1.541             1291              33                3.714   \n",
       "2                 2.594             1887              20                2.333   \n",
       "3                 1.405             1171              20                2.333   \n",
       "4                 2.175              816              28                2.500   \n",
       "\n",
       "   Avg_Utilization_Ratio  \\\n",
       "0                  0.061   \n",
       "1                  0.105   \n",
       "2                  0.000   \n",
       "3                  0.760   \n",
       "4                  0.000   \n",
       "\n",
       "   Naive_Bayes_Classifier_Attrition_Flag_Card_Category_Contacts_Count_12_mon_Dependent_count_Education_Level_Months_Inactive_12_mon_1  \\\n",
       "0                                           0.000093                                                                                    \n",
       "1                                           0.000057                                                                                    \n",
       "2                                           0.000021                                                                                    \n",
       "3                                           0.000134                                                                                    \n",
       "4                                           0.000022                                                                                    \n",
       "\n",
       "   Naive_Bayes_Classifier_Attrition_Flag_Card_Category_Contacts_Count_12_mon_Dependent_count_Education_Level_Months_Inactive_12_mon_2  \n",
       "0                                            0.99991                                                                                   \n",
       "1                                            0.99994                                                                                   \n",
       "2                                            0.99998                                                                                   \n",
       "3                                            0.99987                                                                                   \n",
       "4                                            0.99998                                                                                   \n",
       "\n",
       "[5 rows x 23 columns]"
      ]
     },
     "execution_count": 115,
     "metadata": {},
     "output_type": "execute_result"
    }
   ],
   "source": [
    "dataset= pd.read_csv('F:/numdataset/credit_cardCustomer.csv')\n",
    "dataset.head()"
   ]
  },
  {
   "cell_type": "markdown",
   "id": "d2381f2d",
   "metadata": {},
   "source": [
    "# Dataset Samples "
   ]
  },
  {
   "cell_type": "code",
   "execution_count": 116,
   "id": "2defe1b6",
   "metadata": {},
   "outputs": [
    {
     "data": {
      "text/plain": [
       "(10127, 23)"
      ]
     },
     "execution_count": 116,
     "metadata": {},
     "output_type": "execute_result"
    }
   ],
   "source": [
    "dataset.shape"
   ]
  },
  {
   "cell_type": "code",
   "execution_count": 117,
   "id": "b846e4d6",
   "metadata": {},
   "outputs": [
    {
     "data": {
      "text/html": [
       "<div>\n",
       "<style scoped>\n",
       "    .dataframe tbody tr th:only-of-type {\n",
       "        vertical-align: middle;\n",
       "    }\n",
       "\n",
       "    .dataframe tbody tr th {\n",
       "        vertical-align: top;\n",
       "    }\n",
       "\n",
       "    .dataframe thead th {\n",
       "        text-align: right;\n",
       "    }\n",
       "</style>\n",
       "<table border=\"1\" class=\"dataframe\">\n",
       "  <thead>\n",
       "    <tr style=\"text-align: right;\">\n",
       "      <th></th>\n",
       "      <th>CLIENTNUM</th>\n",
       "      <th>Attrition_Flag</th>\n",
       "      <th>Customer_Age</th>\n",
       "      <th>Gender</th>\n",
       "      <th>Dependent_count</th>\n",
       "      <th>Education_Level</th>\n",
       "      <th>Marital_Status</th>\n",
       "      <th>Income_Category</th>\n",
       "      <th>Card_Category</th>\n",
       "      <th>Months_on_book</th>\n",
       "      <th>...</th>\n",
       "      <th>Credit_Limit</th>\n",
       "      <th>Total_Revolving_Bal</th>\n",
       "      <th>Avg_Open_To_Buy</th>\n",
       "      <th>Total_Amt_Chng_Q4_Q1</th>\n",
       "      <th>Total_Trans_Amt</th>\n",
       "      <th>Total_Trans_Ct</th>\n",
       "      <th>Total_Ct_Chng_Q4_Q1</th>\n",
       "      <th>Avg_Utilization_Ratio</th>\n",
       "      <th>Naive_Bayes_Classifier_Attrition_Flag_Card_Category_Contacts_Count_12_mon_Dependent_count_Education_Level_Months_Inactive_12_mon_1</th>\n",
       "      <th>Naive_Bayes_Classifier_Attrition_Flag_Card_Category_Contacts_Count_12_mon_Dependent_count_Education_Level_Months_Inactive_12_mon_2</th>\n",
       "    </tr>\n",
       "  </thead>\n",
       "  <tbody>\n",
       "    <tr>\n",
       "      <th>2912</th>\n",
       "      <td>780704358</td>\n",
       "      <td>Existing Customer</td>\n",
       "      <td>34</td>\n",
       "      <td>M</td>\n",
       "      <td>3</td>\n",
       "      <td>Post-Graduate</td>\n",
       "      <td>Unknown</td>\n",
       "      <td>$60K - $80K</td>\n",
       "      <td>Silver</td>\n",
       "      <td>23</td>\n",
       "      <td>...</td>\n",
       "      <td>27710.0</td>\n",
       "      <td>0</td>\n",
       "      <td>27710.0</td>\n",
       "      <td>0.777</td>\n",
       "      <td>4014</td>\n",
       "      <td>73</td>\n",
       "      <td>0.659</td>\n",
       "      <td>0.0</td>\n",
       "      <td>0.000073</td>\n",
       "      <td>0.99993</td>\n",
       "    </tr>\n",
       "  </tbody>\n",
       "</table>\n",
       "<p>1 rows × 23 columns</p>\n",
       "</div>"
      ],
      "text/plain": [
       "      CLIENTNUM     Attrition_Flag  Customer_Age Gender  Dependent_count  \\\n",
       "2912  780704358  Existing Customer            34      M                3   \n",
       "\n",
       "     Education_Level Marital_Status Income_Category Card_Category  \\\n",
       "2912   Post-Graduate        Unknown     $60K - $80K        Silver   \n",
       "\n",
       "      Months_on_book  ...  Credit_Limit  Total_Revolving_Bal  Avg_Open_To_Buy  \\\n",
       "2912              23  ...       27710.0                    0          27710.0   \n",
       "\n",
       "      Total_Amt_Chng_Q4_Q1  Total_Trans_Amt  Total_Trans_Ct  \\\n",
       "2912                 0.777             4014              73   \n",
       "\n",
       "      Total_Ct_Chng_Q4_Q1  Avg_Utilization_Ratio  \\\n",
       "2912                0.659                    0.0   \n",
       "\n",
       "      Naive_Bayes_Classifier_Attrition_Flag_Card_Category_Contacts_Count_12_mon_Dependent_count_Education_Level_Months_Inactive_12_mon_1  \\\n",
       "2912                                           0.000073                                                                                    \n",
       "\n",
       "      Naive_Bayes_Classifier_Attrition_Flag_Card_Category_Contacts_Count_12_mon_Dependent_count_Education_Level_Months_Inactive_12_mon_2  \n",
       "2912                                            0.99993                                                                                   \n",
       "\n",
       "[1 rows x 23 columns]"
      ]
     },
     "execution_count": 117,
     "metadata": {},
     "output_type": "execute_result"
    }
   ],
   "source": [
    "dataset.sample()"
   ]
  },
  {
   "cell_type": "markdown",
   "id": "34b26bc5",
   "metadata": {},
   "source": [
    "# Explore Data"
   ]
  },
  {
   "cell_type": "code",
   "execution_count": 118,
   "id": "2a9752c0",
   "metadata": {},
   "outputs": [
    {
     "name": "stdout",
     "output_type": "stream",
     "text": [
      "<class 'pandas.core.frame.DataFrame'>\n",
      "RangeIndex: 10127 entries, 0 to 10126\n",
      "Data columns (total 23 columns):\n",
      " #   Column                                                                                                                              Non-Null Count  Dtype  \n",
      "---  ------                                                                                                                              --------------  -----  \n",
      " 0   CLIENTNUM                                                                                                                           10127 non-null  int64  \n",
      " 1   Attrition_Flag                                                                                                                      10127 non-null  object \n",
      " 2   Customer_Age                                                                                                                        10127 non-null  int64  \n",
      " 3   Gender                                                                                                                              10127 non-null  object \n",
      " 4   Dependent_count                                                                                                                     10127 non-null  int64  \n",
      " 5   Education_Level                                                                                                                     10127 non-null  object \n",
      " 6   Marital_Status                                                                                                                      10127 non-null  object \n",
      " 7   Income_Category                                                                                                                     10127 non-null  object \n",
      " 8   Card_Category                                                                                                                       10127 non-null  object \n",
      " 9   Months_on_book                                                                                                                      10127 non-null  int64  \n",
      " 10  Total_Relationship_Count                                                                                                            10127 non-null  int64  \n",
      " 11  Months_Inactive_12_mon                                                                                                              10127 non-null  int64  \n",
      " 12  Contacts_Count_12_mon                                                                                                               10127 non-null  int64  \n",
      " 13  Credit_Limit                                                                                                                        10127 non-null  float64\n",
      " 14  Total_Revolving_Bal                                                                                                                 10127 non-null  int64  \n",
      " 15  Avg_Open_To_Buy                                                                                                                     10127 non-null  float64\n",
      " 16  Total_Amt_Chng_Q4_Q1                                                                                                                10127 non-null  float64\n",
      " 17  Total_Trans_Amt                                                                                                                     10127 non-null  int64  \n",
      " 18  Total_Trans_Ct                                                                                                                      10127 non-null  int64  \n",
      " 19  Total_Ct_Chng_Q4_Q1                                                                                                                 10127 non-null  float64\n",
      " 20  Avg_Utilization_Ratio                                                                                                               10127 non-null  float64\n",
      " 21  Naive_Bayes_Classifier_Attrition_Flag_Card_Category_Contacts_Count_12_mon_Dependent_count_Education_Level_Months_Inactive_12_mon_1  10127 non-null  float64\n",
      " 22  Naive_Bayes_Classifier_Attrition_Flag_Card_Category_Contacts_Count_12_mon_Dependent_count_Education_Level_Months_Inactive_12_mon_2  10127 non-null  float64\n",
      "dtypes: float64(7), int64(10), object(6)\n",
      "memory usage: 1.8+ MB\n"
     ]
    }
   ],
   "source": [
    "dataset.info()"
   ]
  },
  {
   "cell_type": "code",
   "execution_count": 119,
   "id": "74a838d8",
   "metadata": {},
   "outputs": [
    {
     "data": {
      "text/plain": [
       "Index(['CLIENTNUM', 'Attrition_Flag', 'Customer_Age', 'Gender',\n",
       "       'Dependent_count', 'Education_Level', 'Marital_Status',\n",
       "       'Income_Category', 'Card_Category', 'Months_on_book',\n",
       "       'Total_Relationship_Count', 'Months_Inactive_12_mon',\n",
       "       'Contacts_Count_12_mon', 'Credit_Limit', 'Total_Revolving_Bal',\n",
       "       'Avg_Open_To_Buy', 'Total_Amt_Chng_Q4_Q1', 'Total_Trans_Amt',\n",
       "       'Total_Trans_Ct', 'Total_Ct_Chng_Q4_Q1', 'Avg_Utilization_Ratio',\n",
       "       'Naive_Bayes_Classifier_Attrition_Flag_Card_Category_Contacts_Count_12_mon_Dependent_count_Education_Level_Months_Inactive_12_mon_1',\n",
       "       'Naive_Bayes_Classifier_Attrition_Flag_Card_Category_Contacts_Count_12_mon_Dependent_count_Education_Level_Months_Inactive_12_mon_2'],\n",
       "      dtype='object')"
      ]
     },
     "execution_count": 119,
     "metadata": {},
     "output_type": "execute_result"
    }
   ],
   "source": [
    "dataset.columns"
   ]
  },
  {
   "cell_type": "code",
   "execution_count": 120,
   "id": "630eb291",
   "metadata": {},
   "outputs": [],
   "source": [
    "dataset.columns = ['CLIENTNUM', 'AttritionFlag', 'CustomerAge', 'Gender',\n",
    "       'Dependentcount', 'EducationLevel', 'MaritalStatus',\n",
    "       'IncomeCategory', 'CardCategory', 'MonthsOnBook',\n",
    "       'TotalRelationshipCount', 'MonthsInactive12mon',\n",
    "       'ContactsCount12mon', 'CreditLimit', 'TotalRevolvingBal',\n",
    "       'AvgOpenToBuy', 'TotalAmtChngQ4_Q1', 'TotalTransAmt',\n",
    "       'TotalTransCt', 'TotalCtChngQ4_Q1', 'AvgUtilizationRatio',\n",
    "       'NaiveClassifiermon1',\n",
    "       'NaiveClassifiermon2']"
   ]
  },
  {
   "cell_type": "code",
   "execution_count": 121,
   "id": "6678987a",
   "metadata": {},
   "outputs": [
    {
     "data": {
      "text/plain": [
       "Index(['CLIENTNUM', 'AttritionFlag', 'CustomerAge', 'Gender', 'Dependentcount',\n",
       "       'EducationLevel', 'MaritalStatus', 'IncomeCategory', 'CardCategory',\n",
       "       'MonthsOnBook', 'TotalRelationshipCount', 'MonthsInactive12mon',\n",
       "       'ContactsCount12mon', 'CreditLimit', 'TotalRevolvingBal',\n",
       "       'AvgOpenToBuy', 'TotalAmtChngQ4_Q1', 'TotalTransAmt', 'TotalTransCt',\n",
       "       'TotalCtChngQ4_Q1', 'AvgUtilizationRatio', 'NaiveClassifiermon1',\n",
       "       'NaiveClassifiermon2'],\n",
       "      dtype='object')"
      ]
     },
     "execution_count": 121,
     "metadata": {},
     "output_type": "execute_result"
    }
   ],
   "source": [
    "dataset.columns"
   ]
  },
  {
   "cell_type": "code",
   "execution_count": 122,
   "id": "c550fc64",
   "metadata": {},
   "outputs": [
    {
     "name": "stdout",
     "output_type": "stream",
     "text": [
      "<class 'pandas.core.frame.DataFrame'>\n",
      "RangeIndex: 10127 entries, 0 to 10126\n",
      "Data columns (total 23 columns):\n",
      " #   Column                  Non-Null Count  Dtype  \n",
      "---  ------                  --------------  -----  \n",
      " 0   CLIENTNUM               10127 non-null  int64  \n",
      " 1   AttritionFlag           10127 non-null  object \n",
      " 2   CustomerAge             10127 non-null  int64  \n",
      " 3   Gender                  10127 non-null  object \n",
      " 4   Dependentcount          10127 non-null  int64  \n",
      " 5   EducationLevel          10127 non-null  object \n",
      " 6   MaritalStatus           10127 non-null  object \n",
      " 7   IncomeCategory          10127 non-null  object \n",
      " 8   CardCategory            10127 non-null  object \n",
      " 9   MonthsOnBook            10127 non-null  int64  \n",
      " 10  TotalRelationshipCount  10127 non-null  int64  \n",
      " 11  MonthsInactive12mon     10127 non-null  int64  \n",
      " 12  ContactsCount12mon      10127 non-null  int64  \n",
      " 13  CreditLimit             10127 non-null  float64\n",
      " 14  TotalRevolvingBal       10127 non-null  int64  \n",
      " 15  AvgOpenToBuy            10127 non-null  float64\n",
      " 16  TotalAmtChngQ4_Q1       10127 non-null  float64\n",
      " 17  TotalTransAmt           10127 non-null  int64  \n",
      " 18  TotalTransCt            10127 non-null  int64  \n",
      " 19  TotalCtChngQ4_Q1        10127 non-null  float64\n",
      " 20  AvgUtilizationRatio     10127 non-null  float64\n",
      " 21  NaiveClassifiermon1     10127 non-null  float64\n",
      " 22  NaiveClassifiermon2     10127 non-null  float64\n",
      "dtypes: float64(7), int64(10), object(6)\n",
      "memory usage: 1.8+ MB\n"
     ]
    }
   ],
   "source": [
    "dataset.info()"
   ]
  },
  {
   "cell_type": "markdown",
   "id": "33438426",
   "metadata": {},
   "source": [
    "# Check null values"
   ]
  },
  {
   "cell_type": "code",
   "execution_count": 123,
   "id": "a228a6b1",
   "metadata": {},
   "outputs": [
    {
     "data": {
      "text/plain": [
       "CLIENTNUM                 0\n",
       "AttritionFlag             0\n",
       "CustomerAge               0\n",
       "Gender                    0\n",
       "Dependentcount            0\n",
       "EducationLevel            0\n",
       "MaritalStatus             0\n",
       "IncomeCategory            0\n",
       "CardCategory              0\n",
       "MonthsOnBook              0\n",
       "TotalRelationshipCount    0\n",
       "MonthsInactive12mon       0\n",
       "ContactsCount12mon        0\n",
       "CreditLimit               0\n",
       "TotalRevolvingBal         0\n",
       "AvgOpenToBuy              0\n",
       "TotalAmtChngQ4_Q1         0\n",
       "TotalTransAmt             0\n",
       "TotalTransCt              0\n",
       "TotalCtChngQ4_Q1          0\n",
       "AvgUtilizationRatio       0\n",
       "NaiveClassifiermon1       0\n",
       "NaiveClassifiermon2       0\n",
       "dtype: int64"
      ]
     },
     "execution_count": 123,
     "metadata": {},
     "output_type": "execute_result"
    }
   ],
   "source": [
    "dataset.isnull().sum()"
   ]
  },
  {
   "cell_type": "code",
   "execution_count": 124,
   "id": "fe18dad6",
   "metadata": {},
   "outputs": [
    {
     "name": "stdout",
     "output_type": "stream",
     "text": [
      "AttritionFlag     2\n",
      "Gender            2\n",
      "EducationLevel    7\n",
      "MaritalStatus     4\n",
      "IncomeCategory    6\n",
      "CardCategory      4\n",
      "dtype: int64\n"
     ]
    }
   ],
   "source": [
    "cat_columns = dataset.select_dtypes(include = ['object']).nunique(dropna=False)\n",
    "print(cat_columns)"
   ]
  },
  {
   "cell_type": "markdown",
   "id": "59de571e",
   "metadata": {},
   "source": [
    "# Drop non-informative columns"
   ]
  },
  {
   "cell_type": "code",
   "execution_count": 125,
   "id": "7f312b4e",
   "metadata": {},
   "outputs": [],
   "source": [
    "dataset = dataset.drop('CLIENTNUM', axis=1)\n",
    "dataset = dataset.drop(columns=['NaiveClassifiermon1','NaiveClassifiermon2'], axis=1)"
   ]
  },
  {
   "cell_type": "markdown",
   "id": "b6f20677",
   "metadata": {},
   "source": [
    "# Exploratory Data Analysis"
   ]
  },
  {
   "cell_type": "code",
   "execution_count": 126,
   "id": "e39c9963",
   "metadata": {},
   "outputs": [
    {
     "name": "stdout",
     "output_type": "stream",
     "text": [
      "Existing Customer    8500\n",
      "Attrited Customer    1627\n",
      "Name: AttritionFlag, dtype: int64\n"
     ]
    },
    {
     "data": {
      "text/plain": [
       "<AxesSubplot:xlabel='AttritionFlag', ylabel='count'>"
      ]
     },
     "execution_count": 126,
     "metadata": {},
     "output_type": "execute_result"
    },
    {
     "data": {
      "image/png": "[encoded data removed]",
      "text/plain": [
       "<Figure size 432x288 with 1 Axes>"
      ]
     },
     "metadata": {
      "needs_background": "light"
     },
     "output_type": "display_data"
    }
   ],
   "source": [
    "import seaborn as sns\n",
    "\n",
    "# target is Attrition_Flag\n",
    "print(dataset['AttritionFlag'].value_counts())\n",
    "sns.countplot(x=\"AttritionFlag\", data=dataset)"
   ]
  },
  {
   "cell_type": "code",
   "execution_count": 127,
   "id": "ec36a79c",
   "metadata": {},
   "outputs": [
    {
     "data": {
      "text/plain": [
       "<AxesSubplot:xlabel='Gender'>"
      ]
     },
     "execution_count": 127,
     "metadata": {},
     "output_type": "execute_result"
    },
    {
     "data": {
      "image/png": "[encoded data removed]",
      "text/plain": [
       "<Figure size 432x288 with 1 Axes>"
      ]
     },
     "metadata": {
      "needs_background": "light"
     },
     "output_type": "display_data"
    }
   ],
   "source": [
    "pt = dataset[['Gender','AttritionFlag']].pivot_table(index='Gender', columns='AttritionFlag', aggfunc=len, fill_value=0)\n",
    "pt.plot.bar()"
   ]
  },
  {
   "cell_type": "code",
   "execution_count": 128,
   "id": "e4b7f8ed",
   "metadata": {},
   "outputs": [
    {
     "data": {
      "image/png": "[encoded data removed]",
      "text/plain": [
       "<Figure size 432x288 with 1 Axes>"
      ]
     },
     "metadata": {
      "needs_background": "light"
     },
     "output_type": "display_data"
    }
   ],
   "source": [
    "dataset['bin_age'] = pd.cut(dataset.CustomerAge, [0,30,40,50,60,70,90])\n",
    "\n",
    "pt = dataset[['bin_age','AttritionFlag']].pivot_table(index='bin_age', columns='AttritionFlag', aggfunc=len, fill_value=0)\n",
    "pt.plot.bar()\n",
    "dataset = dataset.drop('bin_age', axis=1)"
   ]
  },
  {
   "cell_type": "code",
   "execution_count": 129,
   "id": "b98448ef",
   "metadata": {},
   "outputs": [
    {
     "data": {
      "text/plain": [
       "<AxesSubplot:xlabel='IncomeCategory'>"
      ]
     },
     "execution_count": 129,
     "metadata": {},
     "output_type": "execute_result"
    },
    {
     "data": {
      "image/png": "[encoded data removed]",
      "text/plain": [
       "<Figure size 432x288 with 1 Axes>"
      ]
     },
     "metadata": {
      "needs_background": "light"
     },
     "output_type": "display_data"
    }
   ],
   "source": [
    "pt = dataset[['IncomeCategory','AttritionFlag']].pivot_table(index='IncomeCategory', columns='AttritionFlag', aggfunc=len, fill_value=0)\n",
    "pt.plot.bar()"
   ]
  },
  {
   "cell_type": "code",
   "execution_count": 130,
   "id": "c890a59a",
   "metadata": {},
   "outputs": [
    {
     "data": {
      "text/plain": [
       "<AxesSubplot:xlabel='CardCategory'>"
      ]
     },
     "execution_count": 130,
     "metadata": {},
     "output_type": "execute_result"
    },
    {
     "data": {
      "image/png": "[encoded data removed]",
      "text/plain": [
       "<Figure size 432x288 with 1 Axes>"
      ]
     },
     "metadata": {
      "needs_background": "light"
     },
     "output_type": "display_data"
    }
   ],
   "source": [
    "pt = dataset[['CardCategory','AttritionFlag']].pivot_table(index='CardCategory', columns='AttritionFlag', aggfunc=len, fill_value=0)\n",
    "pt.plot.bar()"
   ]
  },
  {
   "cell_type": "code",
   "execution_count": 131,
   "id": "0072133b",
   "metadata": {},
   "outputs": [
    {
     "data": {
      "image/png": "[encoded data removed]",
      "text/plain": [
       "<Figure size 432x288 with 1 Axes>"
      ]
     },
     "metadata": {
      "needs_background": "light"
     },
     "output_type": "display_data"
    }
   ],
   "source": [
    "dataset['bin_Credit_Limit'] = pd.cut(dataset.CreditLimit, [0,5000,10000,20000,30000,40000])\n",
    "\n",
    "pt = dataset[['bin_Credit_Limit','AttritionFlag']].pivot_table(index='bin_Credit_Limit', columns='AttritionFlag', aggfunc=len, fill_value=0)\n",
    "pt.plot.bar()\n",
    "dataset = dataset.drop('bin_Credit_Limit', axis=1)"
   ]
  },
  {
   "cell_type": "code",
   "execution_count": 132,
   "id": "2ec735d3",
   "metadata": {},
   "outputs": [
    {
     "data": {
      "text/plain": [
       "<AxesSubplot:xlabel='TotalRelationshipCount'>"
      ]
     },
     "execution_count": 132,
     "metadata": {},
     "output_type": "execute_result"
    },
    {
     "data": {
      "image/png": "[encoded data removed]",
      "text/plain": [
       "<Figure size 432x288 with 1 Axes>"
      ]
     },
     "metadata": {
      "needs_background": "light"
     },
     "output_type": "display_data"
    }
   ],
   "source": [
    "pt = dataset[['TotalRelationshipCount','AttritionFlag']].pivot_table(index='TotalRelationshipCount', columns='AttritionFlag', aggfunc=len, fill_value=0)\n",
    "pt.plot.bar()"
   ]
  },
  {
   "cell_type": "code",
   "execution_count": 133,
   "id": "ff9dfe27",
   "metadata": {},
   "outputs": [
    {
     "data": {
      "text/plain": [
       "<AxesSubplot:xlabel='MonthsInactive12mon'>"
      ]
     },
     "execution_count": 133,
     "metadata": {},
     "output_type": "execute_result"
    },
    {
     "data": {
      "image/png": "[encoded data removed]",
      "text/plain": [
       "<Figure size 432x288 with 1 Axes>"
      ]
     },
     "metadata": {
      "needs_background": "light"
     },
     "output_type": "display_data"
    }
   ],
   "source": [
    "pt = dataset[['MonthsInactive12mon','AttritionFlag']].pivot_table(index='MonthsInactive12mon', columns='AttritionFlag', aggfunc=len, fill_value=0)\n",
    "pt.plot.bar()"
   ]
  },
  {
   "cell_type": "markdown",
   "id": "406287f1",
   "metadata": {},
   "source": [
    "# Preprocess the data"
   ]
  },
  {
   "cell_type": "code",
   "execution_count": 134,
   "id": "fb5ca525",
   "metadata": {},
   "outputs": [
    {
     "data": {
      "text/plain": [
       "0    8500\n",
       "1    1627\n",
       "Name: AttritionFlag, dtype: int64"
      ]
     },
     "execution_count": 134,
     "metadata": {},
     "output_type": "execute_result"
    }
   ],
   "source": [
    "dataset['AttritionFlag'] = dataset['AttritionFlag'].replace({'Existing Customer': 0, 'Attrited Customer': 1})\n",
    "dataset['AttritionFlag'].value_counts()"
   ]
  },
  {
   "cell_type": "code",
   "execution_count": 135,
   "id": "127c3349",
   "metadata": {},
   "outputs": [
    {
     "data": {
      "text/plain": [
       "0    5358\n",
       "1    4769\n",
       "Name: Gender, dtype: int64"
      ]
     },
     "execution_count": 135,
     "metadata": {},
     "output_type": "execute_result"
    }
   ],
   "source": [
    "dataset['Gender'] = dataset['Gender'].replace({'F': 0, 'M': 1})\n",
    "dataset['Gender'].value_counts()"
   ]
  },
  {
   "cell_type": "code",
   "execution_count": 136,
   "id": "3ddb3eea",
   "metadata": {},
   "outputs": [],
   "source": [
    "from sklearn.preprocessing import StandardScaler\n",
    "sc = StandardScaler()\n",
    "numerical_features = dataset.select_dtypes(exclude=['object'])\n",
    "numerical_features = numerical_features.drop(['AttritionFlag', 'Gender'], axis=1)\n",
    "dataset[numerical_features.columns] = sc.fit_transform(numerical_features)"
   ]
  },
  {
   "cell_type": "code",
   "execution_count": 137,
   "id": "5ea53a61",
   "metadata": {},
   "outputs": [
    {
     "data": {
      "text/html": [
       "<div>\n",
       "<style scoped>\n",
       "    .dataframe tbody tr th:only-of-type {\n",
       "        vertical-align: middle;\n",
       "    }\n",
       "\n",
       "    .dataframe tbody tr th {\n",
       "        vertical-align: top;\n",
       "    }\n",
       "\n",
       "    .dataframe thead th {\n",
       "        text-align: right;\n",
       "    }\n",
       "</style>\n",
       "<table border=\"1\" class=\"dataframe\">\n",
       "  <thead>\n",
       "    <tr style=\"text-align: right;\">\n",
       "      <th></th>\n",
       "      <th>AttritionFlag</th>\n",
       "      <th>CustomerAge</th>\n",
       "      <th>Gender</th>\n",
       "      <th>Dependentcount</th>\n",
       "      <th>MonthsOnBook</th>\n",
       "      <th>TotalRelationshipCount</th>\n",
       "      <th>MonthsInactive12mon</th>\n",
       "      <th>ContactsCount12mon</th>\n",
       "      <th>CreditLimit</th>\n",
       "      <th>TotalRevolvingBal</th>\n",
       "      <th>...</th>\n",
       "      <th>IncomeCategory_$120K +</th>\n",
       "      <th>IncomeCategory_$40K - $60K</th>\n",
       "      <th>IncomeCategory_$60K - $80K</th>\n",
       "      <th>IncomeCategory_$80K - $120K</th>\n",
       "      <th>IncomeCategory_Less than $40K</th>\n",
       "      <th>IncomeCategory_Unknown</th>\n",
       "      <th>CardCategory_Blue</th>\n",
       "      <th>CardCategory_Gold</th>\n",
       "      <th>CardCategory_Platinum</th>\n",
       "      <th>CardCategory_Silver</th>\n",
       "    </tr>\n",
       "  </thead>\n",
       "  <tbody>\n",
       "    <tr>\n",
       "      <th>0</th>\n",
       "      <td>0</td>\n",
       "      <td>-0.165406</td>\n",
       "      <td>1</td>\n",
       "      <td>0.503368</td>\n",
       "      <td>0.384621</td>\n",
       "      <td>0.763943</td>\n",
       "      <td>-1.327136</td>\n",
       "      <td>0.492404</td>\n",
       "      <td>0.446622</td>\n",
       "      <td>-0.473422</td>\n",
       "      <td>...</td>\n",
       "      <td>0</td>\n",
       "      <td>0</td>\n",
       "      <td>1</td>\n",
       "      <td>0</td>\n",
       "      <td>0</td>\n",
       "      <td>0</td>\n",
       "      <td>1</td>\n",
       "      <td>0</td>\n",
       "      <td>0</td>\n",
       "      <td>0</td>\n",
       "    </tr>\n",
       "    <tr>\n",
       "      <th>1</th>\n",
       "      <td>0</td>\n",
       "      <td>0.333570</td>\n",
       "      <td>0</td>\n",
       "      <td>2.043199</td>\n",
       "      <td>1.010715</td>\n",
       "      <td>1.407306</td>\n",
       "      <td>-1.327136</td>\n",
       "      <td>-0.411616</td>\n",
       "      <td>-0.041367</td>\n",
       "      <td>-0.366667</td>\n",
       "      <td>...</td>\n",
       "      <td>0</td>\n",
       "      <td>0</td>\n",
       "      <td>0</td>\n",
       "      <td>0</td>\n",
       "      <td>1</td>\n",
       "      <td>0</td>\n",
       "      <td>1</td>\n",
       "      <td>0</td>\n",
       "      <td>0</td>\n",
       "      <td>0</td>\n",
       "    </tr>\n",
       "    <tr>\n",
       "      <th>2</th>\n",
       "      <td>0</td>\n",
       "      <td>0.583058</td>\n",
       "      <td>1</td>\n",
       "      <td>0.503368</td>\n",
       "      <td>0.008965</td>\n",
       "      <td>0.120579</td>\n",
       "      <td>-1.327136</td>\n",
       "      <td>-2.219655</td>\n",
       "      <td>-0.573698</td>\n",
       "      <td>-1.426858</td>\n",
       "      <td>...</td>\n",
       "      <td>0</td>\n",
       "      <td>0</td>\n",
       "      <td>0</td>\n",
       "      <td>1</td>\n",
       "      <td>0</td>\n",
       "      <td>0</td>\n",
       "      <td>1</td>\n",
       "      <td>0</td>\n",
       "      <td>0</td>\n",
       "      <td>0</td>\n",
       "    </tr>\n",
       "    <tr>\n",
       "      <th>3</th>\n",
       "      <td>0</td>\n",
       "      <td>-0.789126</td>\n",
       "      <td>0</td>\n",
       "      <td>1.273283</td>\n",
       "      <td>-0.241473</td>\n",
       "      <td>-0.522785</td>\n",
       "      <td>1.641478</td>\n",
       "      <td>-1.315636</td>\n",
       "      <td>-0.585251</td>\n",
       "      <td>1.661686</td>\n",
       "      <td>...</td>\n",
       "      <td>0</td>\n",
       "      <td>0</td>\n",
       "      <td>0</td>\n",
       "      <td>0</td>\n",
       "      <td>1</td>\n",
       "      <td>0</td>\n",
       "      <td>1</td>\n",
       "      <td>0</td>\n",
       "      <td>0</td>\n",
       "      <td>0</td>\n",
       "    </tr>\n",
       "    <tr>\n",
       "      <th>4</th>\n",
       "      <td>0</td>\n",
       "      <td>-0.789126</td>\n",
       "      <td>1</td>\n",
       "      <td>0.503368</td>\n",
       "      <td>-1.869317</td>\n",
       "      <td>0.763943</td>\n",
       "      <td>-1.327136</td>\n",
       "      <td>-2.219655</td>\n",
       "      <td>-0.430877</td>\n",
       "      <td>-1.426858</td>\n",
       "      <td>...</td>\n",
       "      <td>0</td>\n",
       "      <td>0</td>\n",
       "      <td>1</td>\n",
       "      <td>0</td>\n",
       "      <td>0</td>\n",
       "      <td>0</td>\n",
       "      <td>1</td>\n",
       "      <td>0</td>\n",
       "      <td>0</td>\n",
       "      <td>0</td>\n",
       "    </tr>\n",
       "  </tbody>\n",
       "</table>\n",
       "<p>5 rows × 37 columns</p>\n",
       "</div>"
      ],
      "text/plain": [
       "   AttritionFlag  CustomerAge  Gender  Dependentcount  MonthsOnBook  \\\n",
       "0              0    -0.165406       1        0.503368      0.384621   \n",
       "1              0     0.333570       0        2.043199      1.010715   \n",
       "2              0     0.583058       1        0.503368      0.008965   \n",
       "3              0    -0.789126       0        1.273283     -0.241473   \n",
       "4              0    -0.789126       1        0.503368     -1.869317   \n",
       "\n",
       "   TotalRelationshipCount  MonthsInactive12mon  ContactsCount12mon  \\\n",
       "0                0.763943            -1.327136            0.492404   \n",
       "1                1.407306            -1.327136           -0.411616   \n",
       "2                0.120579            -1.327136           -2.219655   \n",
       "3               -0.522785             1.641478           -1.315636   \n",
       "4                0.763943            -1.327136           -2.219655   \n",
       "\n",
       "   CreditLimit  TotalRevolvingBal  ...  IncomeCategory_$120K +  \\\n",
       "0     0.446622          -0.473422  ...                       0   \n",
       "1    -0.041367          -0.366667  ...                       0   \n",
       "2    -0.573698          -1.426858  ...                       0   \n",
       "3    -0.585251           1.661686  ...                       0   \n",
       "4    -0.430877          -1.426858  ...                       0   \n",
       "\n",
       "   IncomeCategory_$40K - $60K  IncomeCategory_$60K - $80K  \\\n",
       "0                           0                           1   \n",
       "1                           0                           0   \n",
       "2                           0                           0   \n",
       "3                           0                           0   \n",
       "4                           0                           1   \n",
       "\n",
       "   IncomeCategory_$80K - $120K  IncomeCategory_Less than $40K  \\\n",
       "0                            0                              0   \n",
       "1                            0                              1   \n",
       "2                            1                              0   \n",
       "3                            0                              1   \n",
       "4                            0                              0   \n",
       "\n",
       "   IncomeCategory_Unknown  CardCategory_Blue  CardCategory_Gold  \\\n",
       "0                       0                  1                  0   \n",
       "1                       0                  1                  0   \n",
       "2                       0                  1                  0   \n",
       "3                       0                  1                  0   \n",
       "4                       0                  1                  0   \n",
       "\n",
       "   CardCategory_Platinum  CardCategory_Silver  \n",
       "0                      0                    0  \n",
       "1                      0                    0  \n",
       "2                      0                    0  \n",
       "3                      0                    0  \n",
       "4                      0                    0  \n",
       "\n",
       "[5 rows x 37 columns]"
      ]
     },
     "execution_count": 137,
     "metadata": {},
     "output_type": "execute_result"
    }
   ],
   "source": [
    "categorical_features = dataset.select_dtypes(include=['object']).columns.values.tolist()\n",
    "dataset = pd.get_dummies(dataset, columns=categorical_features)\n",
    "dataset.head()"
   ]
  },
  {
   "cell_type": "code",
   "execution_count": 138,
   "id": "9cfe34d1",
   "metadata": {},
   "outputs": [
    {
     "name": "stdout",
     "output_type": "stream",
     "text": [
      "<class 'pandas.core.frame.DataFrame'>\n",
      "RangeIndex: 10127 entries, 0 to 10126\n",
      "Data columns (total 37 columns):\n",
      " #   Column                         Non-Null Count  Dtype  \n",
      "---  ------                         --------------  -----  \n",
      " 0   AttritionFlag                  10127 non-null  int64  \n",
      " 1   CustomerAge                    10127 non-null  float64\n",
      " 2   Gender                         10127 non-null  int64  \n",
      " 3   Dependentcount                 10127 non-null  float64\n",
      " 4   MonthsOnBook                   10127 non-null  float64\n",
      " 5   TotalRelationshipCount         10127 non-null  float64\n",
      " 6   MonthsInactive12mon            10127 non-null  float64\n",
      " 7   ContactsCount12mon             10127 non-null  float64\n",
      " 8   CreditLimit                    10127 non-null  float64\n",
      " 9   TotalRevolvingBal              10127 non-null  float64\n",
      " 10  AvgOpenToBuy                   10127 non-null  float64\n",
      " 11  TotalAmtChngQ4_Q1              10127 non-null  float64\n",
      " 12  TotalTransAmt                  10127 non-null  float64\n",
      " 13  TotalTransCt                   10127 non-null  float64\n",
      " 14  TotalCtChngQ4_Q1               10127 non-null  float64\n",
      " 15  AvgUtilizationRatio            10127 non-null  float64\n",
      " 16  EducationLevel_College         10127 non-null  uint8  \n",
      " 17  EducationLevel_Doctorate       10127 non-null  uint8  \n",
      " 18  EducationLevel_Graduate        10127 non-null  uint8  \n",
      " 19  EducationLevel_High School     10127 non-null  uint8  \n",
      " 20  EducationLevel_Post-Graduate   10127 non-null  uint8  \n",
      " 21  EducationLevel_Uneducated      10127 non-null  uint8  \n",
      " 22  EducationLevel_Unknown         10127 non-null  uint8  \n",
      " 23  MaritalStatus_Divorced         10127 non-null  uint8  \n",
      " 24  MaritalStatus_Married          10127 non-null  uint8  \n",
      " 25  MaritalStatus_Single           10127 non-null  uint8  \n",
      " 26  MaritalStatus_Unknown          10127 non-null  uint8  \n",
      " 27  IncomeCategory_$120K +         10127 non-null  uint8  \n",
      " 28  IncomeCategory_$40K - $60K     10127 non-null  uint8  \n",
      " 29  IncomeCategory_$60K - $80K     10127 non-null  uint8  \n",
      " 30  IncomeCategory_$80K - $120K    10127 non-null  uint8  \n",
      " 31  IncomeCategory_Less than $40K  10127 non-null  uint8  \n",
      " 32  IncomeCategory_Unknown         10127 non-null  uint8  \n",
      " 33  CardCategory_Blue              10127 non-null  uint8  \n",
      " 34  CardCategory_Gold              10127 non-null  uint8  \n",
      " 35  CardCategory_Platinum          10127 non-null  uint8  \n",
      " 36  CardCategory_Silver            10127 non-null  uint8  \n",
      "dtypes: float64(14), int64(2), uint8(21)\n",
      "memory usage: 1.4 MB\n"
     ]
    }
   ],
   "source": [
    "dataset.info()"
   ]
  },
  {
   "cell_type": "code",
   "execution_count": 139,
   "id": "953e1f79",
   "metadata": {},
   "outputs": [
    {
     "data": {
      "text/plain": [
       "(10127, 37)"
      ]
     },
     "execution_count": 139,
     "metadata": {},
     "output_type": "execute_result"
    }
   ],
   "source": [
    "dataset.shape"
   ]
  },
  {
   "cell_type": "markdown",
   "id": "843627ca",
   "metadata": {},
   "source": [
    "# Dimensional Reduction"
   ]
  },
  {
   "cell_type": "code",
   "execution_count": 140,
   "id": "15e17371",
   "metadata": {},
   "outputs": [],
   "source": [
    "y = dataset['AttritionFlag']\n",
    "X = dataset.drop('AttritionFlag', axis=1)"
   ]
  },
  {
   "cell_type": "code",
   "execution_count": 141,
   "id": "83392013",
   "metadata": {},
   "outputs": [
    {
     "name": "stdout",
     "output_type": "stream",
     "text": [
      "Shape of X before PCA: (10127, 36)\n",
      "Shape of X after PCA: (10127, 20)\n"
     ]
    }
   ],
   "source": [
    "from sklearn.decomposition import PCA\n",
    "pca = PCA(0.95) \n",
    "pca.fit(X)\n",
    "X_pca = pca.transform(X)\n",
    "\n",
    "print(f'Shape of X before PCA: {X.shape}')\n",
    "print(f'Shape of X after PCA: {X_pca.shape}')"
   ]
  },
  {
   "cell_type": "markdown",
   "id": "bdc76437",
   "metadata": {},
   "source": [
    "# Build the model"
   ]
  },
  {
   "cell_type": "code",
   "execution_count": 142,
   "id": "f8319fb9",
   "metadata": {},
   "outputs": [],
   "source": [
    "from sklearn.model_selection import train_test_split\n",
    "X_train, X_test, y_train, y_test = train_test_split(X, y, test_size = 0.25, random_state = 0)"
   ]
  },
  {
   "cell_type": "code",
   "execution_count": 143,
   "id": "379f0579",
   "metadata": {},
   "outputs": [],
   "source": [
    "import xgboost as xgb\n",
    "gbm = xgb.XGBClassifier(max_depth=3, n_estimators=10, learning_rate=0.05, use_label_encoder=False)\n",
    "gbm = gbm.fit(X_train, y_train)"
   ]
  },
  {
   "cell_type": "markdown",
   "id": "218d10f9",
   "metadata": {},
   "source": [
    "# Evaluate the Model"
   ]
  },
  {
   "cell_type": "code",
   "execution_count": 144,
   "id": "4a28681a",
   "metadata": {},
   "outputs": [
    {
     "name": "stdout",
     "output_type": "stream",
     "text": [
      "Accuracy on training set: 0.923\n",
      "Accuracy on test set: 0.917\n"
     ]
    }
   ],
   "source": [
    "print(\"Accuracy on training set: {:.3f}\".format(gbm.score(X_train, y_train))) \n",
    "print(\"Accuracy on test set: {:.3f}\".format(gbm.score(X_test, y_test)))"
   ]
  },
  {
   "cell_type": "code",
   "execution_count": 145,
   "id": "9f343ef1",
   "metadata": {},
   "outputs": [
    {
     "name": "stdout",
     "output_type": "stream",
     "text": [
      "The training data size is : (7595, 36) \n",
      "The test data size is : (2532, 36) \n"
     ]
    }
   ],
   "source": [
    "print(\"The training data size is : {} \".format(X_train.shape))\n",
    "print(\"The test data size is : {} \".format(X_test.shape))"
   ]
  },
  {
   "cell_type": "markdown",
   "id": "91bd6496",
   "metadata": {},
   "source": [
    "# Implementing SVM with Scikit-Learn"
   ]
  },
  {
   "cell_type": "markdown",
   "id": "eb848ead",
   "metadata": {},
   "source": [
    "Dividing data into training and test sets."
   ]
  },
  {
   "cell_type": "code",
   "execution_count": 146,
   "id": "d00c540b",
   "metadata": {},
   "outputs": [],
   "source": [
    "X_train, X_test, y_train, y_test = train_test_split(X, y, test_size = 0.20)"
   ]
  },
  {
   "cell_type": "markdown",
   "id": "0ebd1aec",
   "metadata": {},
   "source": [
    "Fitting method of SVC class."
   ]
  },
  {
   "cell_type": "code",
   "execution_count": 147,
   "id": "e4b8be8f",
   "metadata": {},
   "outputs": [
    {
     "data": {
      "text/plain": [
       "SVC(kernel='linear', random_state=0)"
      ]
     },
     "execution_count": 147,
     "metadata": {},
     "output_type": "execute_result"
    }
   ],
   "source": [
    "svclassifier = SVC(kernel='linear', random_state = 0)\n",
    "svclassifier.fit(X_train, y_train)"
   ]
  },
  {
   "cell_type": "markdown",
   "id": "f45ecbd2",
   "metadata": {},
   "source": [
    "Making Predictions."
   ]
  },
  {
   "cell_type": "code",
   "execution_count": 148,
   "id": "59f9cfd3",
   "metadata": {},
   "outputs": [],
   "source": [
    "y_pred = svclassifier.predict(X_test)"
   ]
  },
  {
   "cell_type": "markdown",
   "id": "7f327b99",
   "metadata": {},
   "source": [
    "confusion matrix"
   ]
  },
  {
   "cell_type": "code",
   "execution_count": 149,
   "id": "e30f9f77",
   "metadata": {},
   "outputs": [
    {
     "name": "stdout",
     "output_type": "stream",
     "text": [
      "[[1630   40]\n",
      " [ 151  205]]\n"
     ]
    },
    {
     "data": {
      "text/plain": [
       "0.9057255676209279"
      ]
     },
     "execution_count": 149,
     "metadata": {},
     "output_type": "execute_result"
    }
   ],
   "source": [
    "from sklearn.metrics import confusion_matrix, accuracy_score\n",
    "cm = confusion_matrix(y_test, y_pred)\n",
    "print(cm)\n",
    "accuracy_score(y_test, y_pred)"
   ]
  },
  {
   "cell_type": "markdown",
   "id": "3b77e9e2",
   "metadata": {},
   "source": [
    "Evaluating the Algorithm"
   ]
  },
  {
   "cell_type": "code",
   "execution_count": 150,
   "id": "73b6a1e2",
   "metadata": {},
   "outputs": [
    {
     "name": "stdout",
     "output_type": "stream",
     "text": [
      "Simple SVM\n",
      "[[1630   40]\n",
      " [ 151  205]]\n",
      "              precision    recall  f1-score   support\n",
      "\n",
      "           0       0.92      0.98      0.94      1670\n",
      "           1       0.84      0.58      0.68       356\n",
      "\n",
      "    accuracy                           0.91      2026\n",
      "   macro avg       0.88      0.78      0.81      2026\n",
      "weighted avg       0.90      0.91      0.90      2026\n",
      "\n"
     ]
    }
   ],
   "source": [
    "print('Simple SVM')\n",
    "print(confusion_matrix(y_test,y_pred))\n",
    "print(classification_report(y_test,y_pred))"
   ]
  },
  {
   "cell_type": "markdown",
   "id": "f6f3e2a6",
   "metadata": {},
   "source": [
    "# Implementing Kernel SVM with Scikit-Learn."
   ]
  },
  {
   "cell_type": "code",
   "execution_count": 151,
   "id": "0872c436",
   "metadata": {},
   "outputs": [],
   "source": [
    "X = dataset.drop('AttritionFlag', axis=1)\n",
    "y = dataset['AttritionFlag']\n",
    "X_train, X_test, y_train, y_test = train_test_split(X, y, test_size = 0.20) "
   ]
  },
  {
   "cell_type": "markdown",
   "id": "6c33b706",
   "metadata": {},
   "source": [
    "# Polynomial Kernel:"
   ]
  },
  {
   "cell_type": "code",
   "execution_count": 152,
   "id": "1172635a",
   "metadata": {},
   "outputs": [],
   "source": [
    "svclassifier = SVC(kernel ='poly', degree = 4)"
   ]
  },
  {
   "cell_type": "code",
   "execution_count": 153,
   "id": "9f0bcbc2",
   "metadata": {},
   "outputs": [
    {
     "data": {
      "text/plain": [
       "SVC(degree=4, kernel='poly')"
      ]
     },
     "execution_count": 153,
     "metadata": {},
     "output_type": "execute_result"
    }
   ],
   "source": [
    "svclassifier.fit(X_train, y_train)"
   ]
  },
  {
   "cell_type": "markdown",
   "id": "fbd4956c",
   "metadata": {},
   "source": [
    "Making Predictions."
   ]
  },
  {
   "cell_type": "code",
   "execution_count": 154,
   "id": "ad98150d",
   "metadata": {},
   "outputs": [],
   "source": [
    "y_pred = svclassifier.predict(X_test)"
   ]
  },
  {
   "cell_type": "markdown",
   "id": "e295dae6",
   "metadata": {},
   "source": [
    "Evaluating the Algorithm"
   ]
  },
  {
   "cell_type": "code",
   "execution_count": 155,
   "id": "4610b01c",
   "metadata": {},
   "outputs": [
    {
     "name": "stdout",
     "output_type": "stream",
     "text": [
      "Poly karnel\n",
      "[[1679   25]\n",
      " [ 104  218]]\n",
      "              precision    recall  f1-score   support\n",
      "\n",
      "           0       0.94      0.99      0.96      1704\n",
      "           1       0.90      0.68      0.77       322\n",
      "\n",
      "    accuracy                           0.94      2026\n",
      "   macro avg       0.92      0.83      0.87      2026\n",
      "weighted avg       0.93      0.94      0.93      2026\n",
      "\n"
     ]
    }
   ],
   "source": [
    "print('Poly karnel')\n",
    "print(confusion_matrix(y_test, y_pred))\n",
    "print(classification_report(y_test, y_pred))"
   ]
  },
  {
   "cell_type": "markdown",
   "id": "2b27df43",
   "metadata": {},
   "source": [
    "# Gaussian Kernel"
   ]
  },
  {
   "cell_type": "code",
   "execution_count": 156,
   "id": "579c70c0",
   "metadata": {},
   "outputs": [],
   "source": [
    "X = dataset.drop('AttritionFlag', axis=1)\n",
    "y = dataset['AttritionFlag']"
   ]
  },
  {
   "cell_type": "code",
   "execution_count": 157,
   "id": "41fae2b1",
   "metadata": {},
   "outputs": [],
   "source": [
    "y[y == 0] = -1\n",
    "X = RobustScaler().fit_transform(X)"
   ]
  },
  {
   "cell_type": "code",
   "execution_count": 158,
   "id": "0899cca4",
   "metadata": {},
   "outputs": [],
   "source": [
    "# For `zero_division` control I need to RobustScalar and change label '0' to '1'\n",
    "X_train, X_test, y_train, y_test = train_test_split(X, y, test_size = 0.20)  "
   ]
  },
  {
   "cell_type": "markdown",
   "id": "9d5ba7cc",
   "metadata": {},
   "source": [
    "Fitting method of SVC class with Gaussian Kernel."
   ]
  },
  {
   "cell_type": "code",
   "execution_count": 159,
   "id": "7657ab1d",
   "metadata": {},
   "outputs": [
    {
     "data": {
      "text/plain": [
       "SVC()"
      ]
     },
     "execution_count": 159,
     "metadata": {},
     "output_type": "execute_result"
    }
   ],
   "source": [
    "svclassifier = SVC(kernel='rbf')\n",
    "\n",
    "svclassifier.fit(X_train, y_train)"
   ]
  },
  {
   "cell_type": "markdown",
   "id": "ee26ab31",
   "metadata": {},
   "source": [
    "Making Predictions."
   ]
  },
  {
   "cell_type": "code",
   "execution_count": 160,
   "id": "078e9b7b",
   "metadata": {},
   "outputs": [],
   "source": [
    "y_pred = svclassifier.predict(X_test)"
   ]
  },
  {
   "cell_type": "markdown",
   "id": "baf6d759",
   "metadata": {},
   "source": [
    "Evaluating the Algorithm"
   ]
  },
  {
   "cell_type": "code",
   "execution_count": 161,
   "id": "052cf5b2",
   "metadata": {},
   "outputs": [
    {
     "name": "stdout",
     "output_type": "stream",
     "text": [
      "Gaussian karnel\n",
      "[[1660   31]\n",
      " [  97  238]]\n",
      "              precision    recall  f1-score   support\n",
      "\n",
      "          -1       0.94      0.98      0.96      1691\n",
      "           1       0.88      0.71      0.79       335\n",
      "\n",
      "    accuracy                           0.94      2026\n",
      "   macro avg       0.91      0.85      0.88      2026\n",
      "weighted avg       0.93      0.94      0.93      2026\n",
      "\n"
     ]
    }
   ],
   "source": [
    "print('Gaussian karnel')\n",
    "print(confusion_matrix(y_test, y_pred))\n",
    "print(classification_report(y_test, y_pred))"
   ]
  },
  {
   "cell_type": "markdown",
   "id": "90cd6a62",
   "metadata": {},
   "source": [
    "# Sigmoid Kernel"
   ]
  },
  {
   "cell_type": "markdown",
   "id": "0f95d177",
   "metadata": {},
   "source": [
    "Fitting method of SVC class with Sigmoid Kernel."
   ]
  },
  {
   "cell_type": "code",
   "execution_count": 162,
   "id": "1ec4df1a",
   "metadata": {},
   "outputs": [
    {
     "data": {
      "text/plain": [
       "SVC(kernel='sigmoid')"
      ]
     },
     "execution_count": 162,
     "metadata": {},
     "output_type": "execute_result"
    }
   ],
   "source": [
    "svclassifier = SVC(kernel='sigmoid')\n",
    "svclassifier.fit(X_train, y_train)"
   ]
  },
  {
   "cell_type": "markdown",
   "id": "1929624e",
   "metadata": {},
   "source": [
    "Making Predictions"
   ]
  },
  {
   "cell_type": "code",
   "execution_count": 163,
   "id": "5e03ff8e",
   "metadata": {},
   "outputs": [],
   "source": [
    "y_pred = svclassifier.predict(X_test)"
   ]
  },
  {
   "cell_type": "markdown",
   "id": "e747932a",
   "metadata": {},
   "source": [
    "Evaluating the Algorithm"
   ]
  },
  {
   "cell_type": "code",
   "execution_count": 164,
   "id": "c658a655",
   "metadata": {
    "scrolled": true
   },
   "outputs": [
    {
     "name": "stdout",
     "output_type": "stream",
     "text": [
      "Sigmoid karnel\n",
      "[[1542  149]\n",
      " [ 174  161]]\n",
      "              precision    recall  f1-score   support\n",
      "\n",
      "          -1       0.90      0.91      0.91      1691\n",
      "           1       0.52      0.48      0.50       335\n",
      "\n",
      "    accuracy                           0.84      2026\n",
      "   macro avg       0.71      0.70      0.70      2026\n",
      "weighted avg       0.84      0.84      0.84      2026\n",
      "\n"
     ]
    }
   ],
   "source": [
    "print('Sigmoid karnel')\n",
    "print(confusion_matrix(y_test, y_pred))\n",
    "print(classification_report(y_test, y_pred))"
   ]
  },
  {
   "cell_type": "code",
   "execution_count": 165,
   "id": "a9ac39b3",
   "metadata": {},
   "outputs": [
    {
     "data": {
      "image/png": "[encoded data removed]",
      "text/plain": [
       "<Figure size 432x288 with 2 Axes>"
      ]
     },
     "metadata": {
      "needs_background": "light"
     },
     "output_type": "display_data"
    }
   ],
   "source": [
    "import seaborn as sns\n",
    "from sklearn.metrics import confusion_matrix\n",
    "\n",
    "cm = confusion_matrix(y_test, y_pred)\n",
    "ax = sns.heatmap(cm, annot=True, cmap='Blues')\n",
    "\n",
    "ax.set_title('Seaborn Confusion Matrix with labels\\n\\n');\n",
    "ax.set_xlabel('\\nPredicted Values')\n",
    "ax.set_ylabel('Actual Values ');\n",
    "\n",
    "## Ticket labels - List must be in alphabetical order\n",
    "ax.xaxis.set_ticklabels(['False','True'])\n",
    "ax.yaxis.set_ticklabels(['False','True'])\n",
    "\n",
    "## Display the visualization of the Confusion Matrix.\n",
    "plt.show()"
   ]
  },
  {
   "cell_type": "markdown",
   "id": "ac9f0258",
   "metadata": {},
   "source": [
    "# SVM Results"
   ]
  },
  {
   "cell_type": "code",
   "execution_count": 166,
   "id": "13936d7e",
   "metadata": {},
   "outputs": [],
   "source": [
    "xgb = XGBClassifier(max_depth = 4, verbosity = 0)\n",
    "\n",
    "# Fit model\n",
    "xgb = xgb.fit(X_train, y_train)\n",
    "\n",
    "# Make Predictions\n",
    "y_pred = xgb.predict_proba(X_test)[:,1]"
   ]
  },
  {
   "cell_type": "markdown",
   "id": "f384d7cf",
   "metadata": {},
   "source": [
    "ROC curve"
   ]
  },
  {
   "cell_type": "code",
   "execution_count": 167,
   "id": "ad67ccef",
   "metadata": {},
   "outputs": [
    {
     "name": "stdout",
     "output_type": "stream",
     "text": [
      "AUC: 99.57%\n",
      "Best threshold value is: 0.108289436\n"
     ]
    },
    {
     "data": {
      "image/png": "[encoded data removed]",
      "text/plain": [
       "<Figure size 432x288 with 1 Axes>"
      ]
     },
     "metadata": {
      "needs_background": "light"
     },
     "output_type": "display_data"
    }
   ],
   "source": [
    "false_positive_rate, true_positive_rate, threshold = roc_curve(y_test, y_pred)\n",
    "\n",
    "# Print model AUC\n",
    "print(\"AUC: %.2f%%\" % (roc_auc_score(y_test, y_pred) * 100.0))\n",
    "\n",
    "# Print best threshold\n",
    "optimal_idx = np.argmax(true_positive_rate - false_positive_rate)\n",
    "optimal_threshold = threshold[optimal_idx]\n",
    "print(\"Best threshold value is:\", optimal_threshold)\n",
    "\n",
    "# Ploting ROC curves\n",
    "plt.title('Receiver Operating Characteristic')\n",
    "plt.plot(false_positive_rate, true_positive_rate)\n",
    "plt.plot([0, 1], ls=\"--\")\n",
    "plt.plot([0, 0], [1, 0] , c=\".7\"), plt.plot([1, 1] , c=\".7\")\n",
    "plt.ylabel('True Positive Rate')\n",
    "plt.xlabel('False Positive Rate')\n",
    "plt.show()"
   ]
  },
  {
   "cell_type": "markdown",
   "id": "bf3c4bc7",
   "metadata": {},
   "source": [
    "loss curve"
   ]
  },
  {
   "cell_type": "code",
   "execution_count": 168,
   "id": "9d2d46b8",
   "metadata": {},
   "outputs": [
    {
     "name": "stdout",
     "output_type": "stream",
     "text": [
      "AUC: 94.48%\n"
     ]
    },
    {
     "data": {
      "image/png": "[encoded data removed]",
      "text/plain": [
       "<Figure size 432x288 with 1 Axes>"
      ]
     },
     "metadata": {
      "needs_background": "light"
     },
     "output_type": "display_data"
    }
   ],
   "source": [
    "model = XGBClassifier(max_depth = 4)\n",
    "\n",
    "# Create eval set with both training and test set\n",
    "eval_set = [(X_train, y_train), (X_test, y_test)]\n",
    "\n",
    "# Fit model \n",
    "model.fit(X_train, y_train, eval_metric=[\"auc\", \"logloss\"], eval_set=eval_set, verbose=False)\n",
    "\n",
    "# Make predictions for test data\n",
    "y_pred = model.predict(X_test)\n",
    "\n",
    "# Evaluate predictions\n",
    "auc = roc_auc_score(y_test, y_pred)\n",
    "print(\"AUC: %.2f%%\" % (auc * 100.0))\n",
    "\n",
    "# Retrieve performance metrics\n",
    "results = model.evals_result()\n",
    "epochs = len(results['validation_0']['auc'])\n",
    "x_axis = range(0, epochs)\n",
    "\n",
    "# Plot log loss\n",
    "fig, ax = plt.subplots()\n",
    "ax.plot(x_axis, results['validation_0']['logloss'], label='Train')\n",
    "ax.plot(x_axis, results['validation_1']['logloss'], label='Test')\n",
    "ax.legend()\n",
    "plt.ylabel('Log Loss')\n",
    "plt.title('XGBoost Log Loss')\n",
    "plt.show()"
   ]
  },
  {
   "cell_type": "code",
   "execution_count": null,
   "id": "f7324e62",
   "metadata": {},
   "outputs": [],
   "source": []
  },
  {
   "cell_type": "code",
   "execution_count": null,
   "id": "904d423f",
   "metadata": {},
   "outputs": [],
   "source": []
  }
 ],
 "metadata": {
  "kernelspec": {
   "display_name": "Python 3",
   "language": "python",
   "name": "python3"
  },
  "language_info": {
   "codemirror_mode": {
    "name": "ipython",
    "version": 3
   },
   "file_extension": ".py",
   "mimetype": "text/x-python",
   "name": "python",
   "nbconvert_exporter": "python",
   "pygments_lexer": "ipython3",
   "version": "3.8.8"
  }
 },
 "nbformat": 4,
 "nbformat_minor": 5
}
